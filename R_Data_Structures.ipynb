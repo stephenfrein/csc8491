{
  "nbformat": 4,
  "nbformat_minor": 0,
  "metadata": {
    "colab": {
      "provenance": [],
      "authorship_tag": "ABX9TyM+X56WDfVh5lfLl5WF/SAx",
      "include_colab_link": true
    },
    "kernelspec": {
      "name": "ir",
      "display_name": "R"
    },
    "language_info": {
      "name": "R"
    }
  },
  "cells": [
    {
      "cell_type": "markdown",
      "metadata": {
        "id": "view-in-github",
        "colab_type": "text"
      },
      "source": [
        "<a href=\"https://colab.research.google.com/github/stephenfrein/csc8491/blob/main/R_Data_Structures.ipynb\" target=\"_parent\"><img src=\"https://colab.research.google.com/assets/colab-badge.svg\" alt=\"Open In Colab\"/></a>"
      ]
    },
    {
      "cell_type": "markdown",
      "source": [
        "# R Data Structures #\n",
        "\n",
        "We'll be working with a number of data structures that are fundamental to R programming and analysis."
      ],
      "metadata": {
        "id": "DlYfPChx1gfZ"
      }
    },
    {
      "cell_type": "markdown",
      "source": [
        "**Vector** - ordered set of values using the same type"
      ],
      "metadata": {
        "id": "lQnqYc1XQKs6"
      }
    },
    {
      "cell_type": "code",
      "source": [
        "# c is combine function - creates a vector\n",
        "names = c(\"Steve\",\"John\",\"Rita\")\n",
        "names\n",
        "typeof(names)\n",
        "#single quotes equivalent, but R style is to use double\n",
        "#names = c('Steve','John','Rita')"
      ],
      "metadata": {
        "colab": {
          "base_uri": "https://localhost:8080/",
          "height": 52
        },
        "id": "Pg0NCawuQC6F",
        "outputId": "5b2ae3cf-adf4-4896-b22c-4e97f5f8486f"
      },
      "execution_count": 2,
      "outputs": [
        {
          "output_type": "display_data",
          "data": {
            "text/html": [
              "<style>\n",
              ".list-inline {list-style: none; margin:0; padding: 0}\n",
              ".list-inline>li {display: inline-block}\n",
              ".list-inline>li:not(:last-child)::after {content: \"\\00b7\"; padding: 0 .5ex}\n",
              "</style>\n",
              "<ol class=list-inline><li>'Steve'</li><li>'John'</li><li>'Rita'</li></ol>\n"
            ],
            "text/markdown": "1. 'Steve'\n2. 'John'\n3. 'Rita'\n\n\n",
            "text/latex": "\\begin{enumerate*}\n\\item 'Steve'\n\\item 'John'\n\\item 'Rita'\n\\end{enumerate*}\n",
            "text/plain": [
              "[1] \"Steve\" \"John\"  \"Rita\" "
            ]
          },
          "metadata": {}
        },
        {
          "output_type": "display_data",
          "data": {
            "text/html": [
              "'character'"
            ],
            "text/markdown": "'character'",
            "text/latex": "'character'",
            "text/plain": [
              "[1] \"character\""
            ]
          },
          "metadata": {}
        }
      ]
    },
    {
      "cell_type": "code",
      "source": [
        "# numeric\n",
        "nums = c(100,200,300)\n",
        "nums\n",
        "typeof(nums)\n",
        "\n",
        "# boolean (logical)\n",
        "bools = c(TRUE,FALSE,TRUE)\n",
        "bools\n",
        "typeof(bools)"
      ],
      "metadata": {
        "colab": {
          "base_uri": "https://localhost:8080/",
          "height": 86
        },
        "id": "Pc8mvFIdQ3QE",
        "outputId": "45cfeb4d-6de5-4907-c720-191d5801539d"
      },
      "execution_count": 3,
      "outputs": [
        {
          "output_type": "display_data",
          "data": {
            "text/html": [
              "<style>\n",
              ".list-inline {list-style: none; margin:0; padding: 0}\n",
              ".list-inline>li {display: inline-block}\n",
              ".list-inline>li:not(:last-child)::after {content: \"\\00b7\"; padding: 0 .5ex}\n",
              "</style>\n",
              "<ol class=list-inline><li>100</li><li>200</li><li>300</li></ol>\n"
            ],
            "text/markdown": "1. 100\n2. 200\n3. 300\n\n\n",
            "text/latex": "\\begin{enumerate*}\n\\item 100\n\\item 200\n\\item 300\n\\end{enumerate*}\n",
            "text/plain": [
              "[1] 100 200 300"
            ]
          },
          "metadata": {}
        },
        {
          "output_type": "display_data",
          "data": {
            "text/html": [
              "'double'"
            ],
            "text/markdown": "'double'",
            "text/latex": "'double'",
            "text/plain": [
              "[1] \"double\""
            ]
          },
          "metadata": {}
        },
        {
          "output_type": "display_data",
          "data": {
            "text/html": [
              "<style>\n",
              ".list-inline {list-style: none; margin:0; padding: 0}\n",
              ".list-inline>li {display: inline-block}\n",
              ".list-inline>li:not(:last-child)::after {content: \"\\00b7\"; padding: 0 .5ex}\n",
              "</style>\n",
              "<ol class=list-inline><li>TRUE</li><li>FALSE</li><li>TRUE</li></ol>\n"
            ],
            "text/markdown": "1. TRUE\n2. FALSE\n3. TRUE\n\n\n",
            "text/latex": "\\begin{enumerate*}\n\\item TRUE\n\\item FALSE\n\\item TRUE\n\\end{enumerate*}\n",
            "text/plain": [
              "[1]  TRUE FALSE  TRUE"
            ]
          },
          "metadata": {}
        },
        {
          "output_type": "display_data",
          "data": {
            "text/html": [
              "'logical'"
            ],
            "text/markdown": "'logical'",
            "text/latex": "'logical'",
            "text/plain": [
              "[1] \"logical\""
            ]
          },
          "metadata": {}
        }
      ]
    },
    {
      "cell_type": "code",
      "source": [
        "#access specific elements with one-based indexing\n",
        "nums[3]\n",
        "nums[4] <- 400\n",
        "nums\n",
        "typeof(nums)\n",
        "nums[5] <- \"ABC\"\n",
        "nums\n",
        "typeof(nums)"
      ],
      "metadata": {
        "colab": {
          "base_uri": "https://localhost:8080/",
          "height": 104
        },
        "id": "I3_rCt09RPQ4",
        "outputId": "4d318bb6-1eea-410b-d45e-1ba34d3182c5"
      },
      "execution_count": 4,
      "outputs": [
        {
          "output_type": "display_data",
          "data": {
            "text/html": [
              "300"
            ],
            "text/markdown": "300",
            "text/latex": "300",
            "text/plain": [
              "[1] 300"
            ]
          },
          "metadata": {}
        },
        {
          "output_type": "display_data",
          "data": {
            "text/html": [
              "<style>\n",
              ".list-inline {list-style: none; margin:0; padding: 0}\n",
              ".list-inline>li {display: inline-block}\n",
              ".list-inline>li:not(:last-child)::after {content: \"\\00b7\"; padding: 0 .5ex}\n",
              "</style>\n",
              "<ol class=list-inline><li>100</li><li>200</li><li>300</li><li>400</li></ol>\n"
            ],
            "text/markdown": "1. 100\n2. 200\n3. 300\n4. 400\n\n\n",
            "text/latex": "\\begin{enumerate*}\n\\item 100\n\\item 200\n\\item 300\n\\item 400\n\\end{enumerate*}\n",
            "text/plain": [
              "[1] 100 200 300 400"
            ]
          },
          "metadata": {}
        },
        {
          "output_type": "display_data",
          "data": {
            "text/html": [
              "'double'"
            ],
            "text/markdown": "'double'",
            "text/latex": "'double'",
            "text/plain": [
              "[1] \"double\""
            ]
          },
          "metadata": {}
        },
        {
          "output_type": "display_data",
          "data": {
            "text/html": [
              "<style>\n",
              ".list-inline {list-style: none; margin:0; padding: 0}\n",
              ".list-inline>li {display: inline-block}\n",
              ".list-inline>li:not(:last-child)::after {content: \"\\00b7\"; padding: 0 .5ex}\n",
              "</style>\n",
              "<ol class=list-inline><li>'100'</li><li>'200'</li><li>'300'</li><li>'400'</li><li>'ABC'</li></ol>\n"
            ],
            "text/markdown": "1. '100'\n2. '200'\n3. '300'\n4. '400'\n5. 'ABC'\n\n\n",
            "text/latex": "\\begin{enumerate*}\n\\item '100'\n\\item '200'\n\\item '300'\n\\item '400'\n\\item 'ABC'\n\\end{enumerate*}\n",
            "text/plain": [
              "[1] \"100\" \"200\" \"300\" \"400\" \"ABC\""
            ]
          },
          "metadata": {}
        },
        {
          "output_type": "display_data",
          "data": {
            "text/html": [
              "'character'"
            ],
            "text/markdown": "'character'",
            "text/latex": "'character'",
            "text/plain": [
              "[1] \"character\""
            ]
          },
          "metadata": {}
        }
      ]
    },
    {
      "cell_type": "code",
      "execution_count": 7,
      "metadata": {
        "id": "I0LVjo24Pb5k",
        "colab": {
          "base_uri": "https://localhost:8080/",
          "height": 104
        },
        "outputId": "5756057d-3e07-421a-b2e5-61d42bb37b53"
      },
      "outputs": [
        {
          "output_type": "display_data",
          "data": {
            "text/html": [
              "<style>\n",
              ".list-inline {list-style: none; margin:0; padding: 0}\n",
              ".list-inline>li {display: inline-block}\n",
              ".list-inline>li:not(:last-child)::after {content: \"\\00b7\"; padding: 0 .5ex}\n",
              "</style>\n",
              "<ol class=list-inline><li>'Steve'</li><li>'John'</li><li>'Rita'</li></ol>\n"
            ],
            "text/markdown": "1. 'Steve'\n2. 'John'\n3. 'Rita'\n\n\n",
            "text/latex": "\\begin{enumerate*}\n\\item 'Steve'\n\\item 'John'\n\\item 'Rita'\n\\end{enumerate*}\n",
            "text/plain": [
              "[1] \"Steve\" \"John\"  \"Rita\" "
            ]
          },
          "metadata": {}
        },
        {
          "output_type": "display_data",
          "data": {
            "text/html": [
              "<style>\n",
              ".list-inline {list-style: none; margin:0; padding: 0}\n",
              ".list-inline>li {display: inline-block}\n",
              ".list-inline>li:not(:last-child)::after {content: \"\\00b7\"; padding: 0 .5ex}\n",
              "</style>\n",
              "<ol class=list-inline><li>'John'</li><li>'Rita'</li></ol>\n"
            ],
            "text/markdown": "1. 'John'\n2. 'Rita'\n\n\n",
            "text/latex": "\\begin{enumerate*}\n\\item 'John'\n\\item 'Rita'\n\\end{enumerate*}\n",
            "text/plain": [
              "[1] \"John\" \"Rita\""
            ]
          },
          "metadata": {}
        },
        {
          "output_type": "display_data",
          "data": {
            "text/html": [
              "<style>\n",
              ".list-inline {list-style: none; margin:0; padding: 0}\n",
              ".list-inline>li {display: inline-block}\n",
              ".list-inline>li:not(:last-child)::after {content: \"\\00b7\"; padding: 0 .5ex}\n",
              "</style>\n",
              "<ol class=list-inline><li>'Steve'</li><li>'John'</li></ol>\n"
            ],
            "text/markdown": "1. 'Steve'\n2. 'John'\n\n\n",
            "text/latex": "\\begin{enumerate*}\n\\item 'Steve'\n\\item 'John'\n\\end{enumerate*}\n",
            "text/plain": [
              "[1] \"Steve\" \"John\" "
            ]
          },
          "metadata": {}
        },
        {
          "output_type": "display_data",
          "data": {
            "text/html": [
              "<style>\n",
              ".list-inline {list-style: none; margin:0; padding: 0}\n",
              ".list-inline>li {display: inline-block}\n",
              ".list-inline>li:not(:last-child)::after {content: \"\\00b7\"; padding: 0 .5ex}\n",
              "</style>\n",
              "<ol class=list-inline><li>TRUE</li><li>FALSE</li><li>TRUE</li></ol>\n"
            ],
            "text/markdown": "1. TRUE\n2. FALSE\n3. TRUE\n\n\n",
            "text/latex": "\\begin{enumerate*}\n\\item TRUE\n\\item FALSE\n\\item TRUE\n\\end{enumerate*}\n",
            "text/plain": [
              "[1]  TRUE FALSE  TRUE"
            ]
          },
          "metadata": {}
        },
        {
          "output_type": "display_data",
          "data": {
            "text/html": [
              "<style>\n",
              ".list-inline {list-style: none; margin:0; padding: 0}\n",
              ".list-inline>li {display: inline-block}\n",
              ".list-inline>li:not(:last-child)::after {content: \"\\00b7\"; padding: 0 .5ex}\n",
              "</style>\n",
              "<ol class=list-inline><li>'Steve'</li><li>'Rita'</li></ol>\n"
            ],
            "text/markdown": "1. 'Steve'\n2. 'Rita'\n\n\n",
            "text/latex": "\\begin{enumerate*}\n\\item 'Steve'\n\\item 'Rita'\n\\end{enumerate*}\n",
            "text/plain": [
              "[1] \"Steve\" \"Rita\" "
            ]
          },
          "metadata": {}
        }
      ],
      "source": [
        "#ranges\n",
        "names\n",
        "names[2:3]\n",
        "#exclude with minus\n",
        "names[-3]\n",
        "#logical vector for inclusions\n",
        "bools\n",
        "names[bools]\n",
        "\n"
      ]
    },
    {
      "cell_type": "markdown",
      "source": [
        "\n",
        "**Factor** - vector used for nominal (category) variables\n",
        "\n",
        "*   for a limited number of values\n",
        "*   stores category labels only once – basically a small lookup table\n",
        "*   classification algorithms will often expect categorical target variables to be represented as factors\n",
        "\n",
        "\n",
        "\n",
        "\n"
      ],
      "metadata": {
        "id": "1qvaZryKRzr3"
      }
    },
    {
      "cell_type": "code",
      "source": [
        "# . is just another character in R names\n",
        "colors.vector <- c(\"Red\",\"Blue\",\"Green\")\n",
        "colors.factor <- factor(c(\"Red\",\"Blue\",\"Green\"))\n",
        "print('Vector below: ')\n",
        "colors.vector\n",
        "print('Factor below: ')\n",
        "colors.factor\n",
        "print('Vector selection below: ')\n",
        "colors.vector[2]\n",
        "print('Factor selection below: ')\n",
        "colors.factor[2]"
      ],
      "metadata": {
        "colab": {
          "base_uri": "https://localhost:8080/",
          "height": 225
        },
        "id": "INSXHnMaRzUG",
        "outputId": "46ef1418-4df0-483f-f98a-d2fdd63d571c"
      },
      "execution_count": 17,
      "outputs": [
        {
          "output_type": "stream",
          "name": "stdout",
          "text": [
            "[1] \"Vector below: \"\n"
          ]
        },
        {
          "output_type": "display_data",
          "data": {
            "text/html": [
              "<style>\n",
              ".list-inline {list-style: none; margin:0; padding: 0}\n",
              ".list-inline>li {display: inline-block}\n",
              ".list-inline>li:not(:last-child)::after {content: \"\\00b7\"; padding: 0 .5ex}\n",
              "</style>\n",
              "<ol class=list-inline><li>'Red'</li><li>'Blue'</li><li>'Green'</li></ol>\n"
            ],
            "text/markdown": "1. 'Red'\n2. 'Blue'\n3. 'Green'\n\n\n",
            "text/latex": "\\begin{enumerate*}\n\\item 'Red'\n\\item 'Blue'\n\\item 'Green'\n\\end{enumerate*}\n",
            "text/plain": [
              "[1] \"Red\"   \"Blue\"  \"Green\""
            ]
          },
          "metadata": {}
        },
        {
          "output_type": "stream",
          "name": "stdout",
          "text": [
            "[1] \"Factor below: \"\n"
          ]
        },
        {
          "output_type": "display_data",
          "data": {
            "text/html": [
              "<style>\n",
              ".list-inline {list-style: none; margin:0; padding: 0}\n",
              ".list-inline>li {display: inline-block}\n",
              ".list-inline>li:not(:last-child)::after {content: \"\\00b7\"; padding: 0 .5ex}\n",
              "</style>\n",
              "<ol class=list-inline><li>Red</li><li>Blue</li><li>Green</li></ol>\n",
              "\n",
              "<details>\n",
              "\t<summary style=display:list-item;cursor:pointer>\n",
              "\t\t<strong>Levels</strong>:\n",
              "\t</summary>\n",
              "\t<style>\n",
              "\t.list-inline {list-style: none; margin:0; padding: 0}\n",
              "\t.list-inline>li {display: inline-block}\n",
              "\t.list-inline>li:not(:last-child)::after {content: \"\\00b7\"; padding: 0 .5ex}\n",
              "\t</style>\n",
              "\t<ol class=list-inline><li>'Blue'</li><li>'Green'</li><li>'Red'</li></ol>\n",
              "</details>"
            ],
            "text/markdown": "1. Red\n2. Blue\n3. Green\n\n\n\n**Levels**: 1. 'Blue'\n2. 'Green'\n3. 'Red'\n\n\n",
            "text/latex": "\\begin{enumerate*}\n\\item Red\n\\item Blue\n\\item Green\n\\end{enumerate*}\n\n\\emph{Levels}: \\begin{enumerate*}\n\\item 'Blue'\n\\item 'Green'\n\\item 'Red'\n\\end{enumerate*}\n",
            "text/plain": [
              "[1] Red   Blue  Green\n",
              "Levels: Blue Green Red"
            ]
          },
          "metadata": {}
        },
        {
          "output_type": "stream",
          "name": "stdout",
          "text": [
            "[1] \"Vector selection below: \"\n"
          ]
        },
        {
          "output_type": "display_data",
          "data": {
            "text/html": [
              "'Blue'"
            ],
            "text/markdown": "'Blue'",
            "text/latex": "'Blue'",
            "text/plain": [
              "[1] \"Blue\""
            ]
          },
          "metadata": {}
        },
        {
          "output_type": "stream",
          "name": "stdout",
          "text": [
            "[1] \"Factor selection below: \"\n"
          ]
        },
        {
          "output_type": "display_data",
          "data": {
            "text/html": [
              "Blue\n",
              "<details>\n",
              "\t<summary style=display:list-item;cursor:pointer>\n",
              "\t\t<strong>Levels</strong>:\n",
              "\t</summary>\n",
              "\t<style>\n",
              "\t.list-inline {list-style: none; margin:0; padding: 0}\n",
              "\t.list-inline>li {display: inline-block}\n",
              "\t.list-inline>li:not(:last-child)::after {content: \"\\00b7\"; padding: 0 .5ex}\n",
              "\t</style>\n",
              "\t<ol class=list-inline><li>'Blue'</li><li>'Green'</li><li>'Red'</li></ol>\n",
              "</details>"
            ],
            "text/markdown": "Blue\n**Levels**: 1. 'Blue'\n2. 'Green'\n3. 'Red'\n\n\n",
            "text/latex": "Blue\n\\emph{Levels}: \\begin{enumerate*}\n\\item 'Blue'\n\\item 'Green'\n\\item 'Red'\n\\end{enumerate*}\n",
            "text/plain": [
              "[1] Blue\n",
              "Levels: Blue Green Red"
            ]
          },
          "metadata": {}
        }
      ]
    },
    {
      "cell_type": "markdown",
      "source": [
        "**List** - doesn't require all elements to be of same type\n",
        "\n",
        "* can give names to elements of list and reference the names"
      ],
      "metadata": {
        "id": "oVafJMtTUe4q"
      }
    },
    {
      "cell_type": "code",
      "source": [
        "list1 <- list(\"Steve\",123, TRUE)\n",
        "list2 <- list(firstname=\"Steve\",id=123,active=TRUE)\n",
        "#access specific elements with one-based indexing\n",
        "print(\"indexing is one-based\")\n",
        "list2[2]\n",
        "#or with name-based indexing\n",
        "print(\"or it can be name-based\")\n",
        "list2$firstname\n",
        "#or with a name vector\n",
        "print(\"it can use a name vector too\")\n",
        "list2[c(\"firstname\",\"active\")]"
      ],
      "metadata": {
        "colab": {
          "base_uri": "https://localhost:8080/",
          "height": 201
        },
        "id": "__wWkTJ7V8Ak",
        "outputId": "6f3af917-14b1-4dd1-b45c-1babac9e43f3"
      },
      "execution_count": 21,
      "outputs": [
        {
          "output_type": "stream",
          "name": "stdout",
          "text": [
            "[1] \"indexing is one-based\"\n"
          ]
        },
        {
          "output_type": "display_data",
          "data": {
            "text/html": [
              "<strong>$id</strong> = 123"
            ],
            "text/markdown": "**$id** = 123",
            "text/latex": "\\textbf{\\$id} = 123",
            "text/plain": [
              "$id\n",
              "[1] 123\n"
            ]
          },
          "metadata": {}
        },
        {
          "output_type": "stream",
          "name": "stdout",
          "text": [
            "[1] \"or it can be name-based\"\n"
          ]
        },
        {
          "output_type": "display_data",
          "data": {
            "text/html": [
              "'Steve'"
            ],
            "text/markdown": "'Steve'",
            "text/latex": "'Steve'",
            "text/plain": [
              "[1] \"Steve\""
            ]
          },
          "metadata": {}
        },
        {
          "output_type": "stream",
          "name": "stdout",
          "text": [
            "[1] \"it can use a name vector too\"\n"
          ]
        },
        {
          "output_type": "display_data",
          "data": {
            "text/html": [
              "<dl>\n",
              "\t<dt>$firstname</dt>\n",
              "\t\t<dd>'Steve'</dd>\n",
              "\t<dt>$active</dt>\n",
              "\t\t<dd>TRUE</dd>\n",
              "</dl>\n"
            ],
            "text/markdown": "$firstname\n:   'Steve'\n$active\n:   TRUE\n\n\n",
            "text/latex": "\\begin{description}\n\\item[\\$firstname] 'Steve'\n\\item[\\$active] TRUE\n\\end{description}\n",
            "text/plain": [
              "$firstname\n",
              "[1] \"Steve\"\n",
              "\n",
              "$active\n",
              "[1] TRUE\n"
            ]
          },
          "metadata": {}
        }
      ]
    },
    {
      "cell_type": "code",
      "source": [
        "### YOU TRY -  how would you pick some elements of the list using a logical vector? ###\n",
        "### try it in this cell ###"
      ],
      "metadata": {
        "id": "WJh69DjfWjPD"
      },
      "execution_count": null,
      "outputs": []
    },
    {
      "cell_type": "markdown",
      "source": [
        "**Data Frame** - tabular structure with rows and columns\n",
        "\n",
        "* a list of vectors\n",
        "* you'll use these often - most model-building libraries with expect your data in this form"
      ],
      "metadata": {
        "id": "QacNi0zIYR5X"
      }
    },
    {
      "cell_type": "code",
      "source": [
        "name <- c(\"Steve\",\"John\",\"Rita\")\n",
        "id <- c(100,200,300)\n",
        "active <- c(TRUE,FALSE,TRUE)\n",
        "gender <- c(\"M\",\"M\",\"F\")\n",
        "#create a data frame - basically a list of same-length vectors\n",
        "family <- data.frame(name, id, active, gender)\n",
        "print(\"Show the data frame\")\n",
        "family\n",
        "print(\"What's it's structure?\")\n",
        "# str works on all kinds of variables in R\n",
        "str(family)"
      ],
      "metadata": {
        "colab": {
          "base_uri": "https://localhost:8080/",
          "height": 313
        },
        "id": "WDeTqdXlagRO",
        "outputId": "931946ea-ef7c-4391-c28f-8747c26cde00"
      },
      "execution_count": 25,
      "outputs": [
        {
          "output_type": "stream",
          "name": "stdout",
          "text": [
            "[1] \"Show the data frame\"\n"
          ]
        },
        {
          "output_type": "display_data",
          "data": {
            "text/html": [
              "<table class=\"dataframe\">\n",
              "<caption>A data.frame: 3 × 4</caption>\n",
              "<thead>\n",
              "\t<tr><th scope=col>name</th><th scope=col>id</th><th scope=col>active</th><th scope=col>gender</th></tr>\n",
              "\t<tr><th scope=col>&lt;chr&gt;</th><th scope=col>&lt;dbl&gt;</th><th scope=col>&lt;lgl&gt;</th><th scope=col>&lt;chr&gt;</th></tr>\n",
              "</thead>\n",
              "<tbody>\n",
              "\t<tr><td>Steve</td><td>100</td><td> TRUE</td><td>M</td></tr>\n",
              "\t<tr><td>John </td><td>200</td><td>FALSE</td><td>M</td></tr>\n",
              "\t<tr><td>Rita </td><td>300</td><td> TRUE</td><td>F</td></tr>\n",
              "</tbody>\n",
              "</table>\n"
            ],
            "text/markdown": "\nA data.frame: 3 × 4\n\n| name &lt;chr&gt; | id &lt;dbl&gt; | active &lt;lgl&gt; | gender &lt;chr&gt; |\n|---|---|---|---|\n| Steve | 100 |  TRUE | M |\n| John  | 200 | FALSE | M |\n| Rita  | 300 |  TRUE | F |\n\n",
            "text/latex": "A data.frame: 3 × 4\n\\begin{tabular}{llll}\n name & id & active & gender\\\\\n <chr> & <dbl> & <lgl> & <chr>\\\\\n\\hline\n\t Steve & 100 &  TRUE & M\\\\\n\t John  & 200 & FALSE & M\\\\\n\t Rita  & 300 &  TRUE & F\\\\\n\\end{tabular}\n",
            "text/plain": [
              "  name  id  active gender\n",
              "1 Steve 100  TRUE  M     \n",
              "2 John  200 FALSE  M     \n",
              "3 Rita  300  TRUE  F     "
            ]
          },
          "metadata": {}
        },
        {
          "output_type": "stream",
          "name": "stdout",
          "text": [
            "[1] \"What's it's structure?\"\n",
            "'data.frame':\t3 obs. of  4 variables:\n",
            " $ name  : chr  \"Steve\" \"John\" \"Rita\"\n",
            " $ id    : num  100 200 300\n",
            " $ active: logi  TRUE FALSE TRUE\n",
            " $ gender: chr  \"M\" \"M\" \"F\"\n"
          ]
        }
      ]
    },
    {
      "cell_type": "code",
      "source": [
        "#elements in this list have names\n",
        "print(\"Pick one column\")\n",
        "family$name"
      ],
      "metadata": {
        "colab": {
          "base_uri": "https://localhost:8080/",
          "height": 52
        },
        "id": "tfDzIWDzb55W",
        "outputId": "1449c880-22b5-4c1d-e73c-9e9fd55de58d"
      },
      "execution_count": 26,
      "outputs": [
        {
          "output_type": "stream",
          "name": "stdout",
          "text": [
            "[1] \"Pick one column\"\n"
          ]
        },
        {
          "output_type": "display_data",
          "data": {
            "text/html": [
              "<style>\n",
              ".list-inline {list-style: none; margin:0; padding: 0}\n",
              ".list-inline>li {display: inline-block}\n",
              ".list-inline>li:not(:last-child)::after {content: \"\\00b7\"; padding: 0 .5ex}\n",
              "</style>\n",
              "<ol class=list-inline><li>'Steve'</li><li>'John'</li><li>'Rita'</li></ol>\n"
            ],
            "text/markdown": "1. 'Steve'\n2. 'John'\n3. 'Rita'\n\n\n",
            "text/latex": "\\begin{enumerate*}\n\\item 'Steve'\n\\item 'John'\n\\item 'Rita'\n\\end{enumerate*}\n",
            "text/plain": [
              "[1] \"Steve\" \"John\"  \"Rita\" "
            ]
          },
          "metadata": {}
        }
      ]
    },
    {
      "cell_type": "code",
      "source": [
        "family\n",
        "#select positionally using [rows, cols] notation\n",
        "print(\"Positional selections\")\n",
        "family[1,2]\n",
        "family[2,1]"
      ],
      "metadata": {
        "colab": {
          "base_uri": "https://localhost:8080/",
          "height": 244
        },
        "id": "qGpV0QUucUJQ",
        "outputId": "33dacf7c-e0e9-4254-9adf-13ef709e35ac"
      },
      "execution_count": 28,
      "outputs": [
        {
          "output_type": "display_data",
          "data": {
            "text/html": [
              "<table class=\"dataframe\">\n",
              "<caption>A data.frame: 3 × 4</caption>\n",
              "<thead>\n",
              "\t<tr><th scope=col>name</th><th scope=col>id</th><th scope=col>active</th><th scope=col>gender</th></tr>\n",
              "\t<tr><th scope=col>&lt;chr&gt;</th><th scope=col>&lt;dbl&gt;</th><th scope=col>&lt;lgl&gt;</th><th scope=col>&lt;chr&gt;</th></tr>\n",
              "</thead>\n",
              "<tbody>\n",
              "\t<tr><td>Steve</td><td>100</td><td> TRUE</td><td>M</td></tr>\n",
              "\t<tr><td>John </td><td>200</td><td>FALSE</td><td>M</td></tr>\n",
              "\t<tr><td>Rita </td><td>300</td><td> TRUE</td><td>F</td></tr>\n",
              "</tbody>\n",
              "</table>\n"
            ],
            "text/markdown": "\nA data.frame: 3 × 4\n\n| name &lt;chr&gt; | id &lt;dbl&gt; | active &lt;lgl&gt; | gender &lt;chr&gt; |\n|---|---|---|---|\n| Steve | 100 |  TRUE | M |\n| John  | 200 | FALSE | M |\n| Rita  | 300 |  TRUE | F |\n\n",
            "text/latex": "A data.frame: 3 × 4\n\\begin{tabular}{llll}\n name & id & active & gender\\\\\n <chr> & <dbl> & <lgl> & <chr>\\\\\n\\hline\n\t Steve & 100 &  TRUE & M\\\\\n\t John  & 200 & FALSE & M\\\\\n\t Rita  & 300 &  TRUE & F\\\\\n\\end{tabular}\n",
            "text/plain": [
              "  name  id  active gender\n",
              "1 Steve 100  TRUE  M     \n",
              "2 John  200 FALSE  M     \n",
              "3 Rita  300  TRUE  F     "
            ]
          },
          "metadata": {}
        },
        {
          "output_type": "stream",
          "name": "stdout",
          "text": [
            "[1] \"Positional selections\"\n"
          ]
        },
        {
          "output_type": "display_data",
          "data": {
            "text/html": [
              "100"
            ],
            "text/markdown": "100",
            "text/latex": "100",
            "text/plain": [
              "[1] 100"
            ]
          },
          "metadata": {}
        },
        {
          "output_type": "display_data",
          "data": {
            "text/html": [
              "'John'"
            ],
            "text/markdown": "'John'",
            "text/latex": "'John'",
            "text/plain": [
              "[1] \"John\""
            ]
          },
          "metadata": {}
        }
      ]
    },
    {
      "cell_type": "code",
      "source": [
        "print(\"Here's a row\")\n",
        "family[2,] #row\n",
        "print(\"Here's a column\")\n",
        "family[,4] #column"
      ],
      "metadata": {
        "colab": {
          "base_uri": "https://localhost:8080/",
          "height": 181
        },
        "id": "UnscEjIrckFI",
        "outputId": "89196e1c-8caa-4655-9e6e-4778b2de4a88"
      },
      "execution_count": 31,
      "outputs": [
        {
          "output_type": "stream",
          "name": "stdout",
          "text": [
            "[1] \"Here's a row\"\n"
          ]
        },
        {
          "output_type": "display_data",
          "data": {
            "text/html": [
              "<table class=\"dataframe\">\n",
              "<caption>A data.frame: 1 × 4</caption>\n",
              "<thead>\n",
              "\t<tr><th></th><th scope=col>name</th><th scope=col>id</th><th scope=col>active</th><th scope=col>gender</th></tr>\n",
              "\t<tr><th></th><th scope=col>&lt;chr&gt;</th><th scope=col>&lt;dbl&gt;</th><th scope=col>&lt;lgl&gt;</th><th scope=col>&lt;chr&gt;</th></tr>\n",
              "</thead>\n",
              "<tbody>\n",
              "\t<tr><th scope=row>2</th><td>John</td><td>200</td><td>FALSE</td><td>M</td></tr>\n",
              "</tbody>\n",
              "</table>\n"
            ],
            "text/markdown": "\nA data.frame: 1 × 4\n\n| <!--/--> | name &lt;chr&gt; | id &lt;dbl&gt; | active &lt;lgl&gt; | gender &lt;chr&gt; |\n|---|---|---|---|---|\n| 2 | John | 200 | FALSE | M |\n\n",
            "text/latex": "A data.frame: 1 × 4\n\\begin{tabular}{r|llll}\n  & name & id & active & gender\\\\\n  & <chr> & <dbl> & <lgl> & <chr>\\\\\n\\hline\n\t2 & John & 200 & FALSE & M\\\\\n\\end{tabular}\n",
            "text/plain": [
              "  name id  active gender\n",
              "2 John 200 FALSE  M     "
            ]
          },
          "metadata": {}
        },
        {
          "output_type": "stream",
          "name": "stdout",
          "text": [
            "[1] \"Here's a column\"\n"
          ]
        },
        {
          "output_type": "display_data",
          "data": {
            "text/html": [
              "<style>\n",
              ".list-inline {list-style: none; margin:0; padding: 0}\n",
              ".list-inline>li {display: inline-block}\n",
              ".list-inline>li:not(:last-child)::after {content: \"\\00b7\"; padding: 0 .5ex}\n",
              "</style>\n",
              "<ol class=list-inline><li>'M'</li><li>'M'</li><li>'F'</li></ol>\n"
            ],
            "text/markdown": "1. 'M'\n2. 'M'\n3. 'F'\n\n\n",
            "text/latex": "\\begin{enumerate*}\n\\item 'M'\n\\item 'M'\n\\item 'F'\n\\end{enumerate*}\n",
            "text/plain": [
              "[1] \"M\" \"M\" \"F\""
            ]
          },
          "metadata": {}
        }
      ]
    },
    {
      "cell_type": "code",
      "source": [
        "family\n",
        "print(\"Grab a slice on two axes\")\n",
        "family[1:2,2:3] #subset\n",
        "print(\"Can skip around\")\n",
        "family[c(1,3),c(2,4)] #skip row/column"
      ],
      "metadata": {
        "colab": {
          "base_uri": "https://localhost:8080/",
          "height": 513
        },
        "id": "v4LJvIJqb-qA",
        "outputId": "3d57d0ee-46fe-4032-eb41-4a74cd308110"
      },
      "execution_count": 32,
      "outputs": [
        {
          "output_type": "display_data",
          "data": {
            "text/html": [
              "<table class=\"dataframe\">\n",
              "<caption>A data.frame: 3 × 4</caption>\n",
              "<thead>\n",
              "\t<tr><th scope=col>name</th><th scope=col>id</th><th scope=col>active</th><th scope=col>gender</th></tr>\n",
              "\t<tr><th scope=col>&lt;chr&gt;</th><th scope=col>&lt;dbl&gt;</th><th scope=col>&lt;lgl&gt;</th><th scope=col>&lt;chr&gt;</th></tr>\n",
              "</thead>\n",
              "<tbody>\n",
              "\t<tr><td>Steve</td><td>100</td><td> TRUE</td><td>M</td></tr>\n",
              "\t<tr><td>John </td><td>200</td><td>FALSE</td><td>M</td></tr>\n",
              "\t<tr><td>Rita </td><td>300</td><td> TRUE</td><td>F</td></tr>\n",
              "</tbody>\n",
              "</table>\n"
            ],
            "text/markdown": "\nA data.frame: 3 × 4\n\n| name &lt;chr&gt; | id &lt;dbl&gt; | active &lt;lgl&gt; | gender &lt;chr&gt; |\n|---|---|---|---|\n| Steve | 100 |  TRUE | M |\n| John  | 200 | FALSE | M |\n| Rita  | 300 |  TRUE | F |\n\n",
            "text/latex": "A data.frame: 3 × 4\n\\begin{tabular}{llll}\n name & id & active & gender\\\\\n <chr> & <dbl> & <lgl> & <chr>\\\\\n\\hline\n\t Steve & 100 &  TRUE & M\\\\\n\t John  & 200 & FALSE & M\\\\\n\t Rita  & 300 &  TRUE & F\\\\\n\\end{tabular}\n",
            "text/plain": [
              "  name  id  active gender\n",
              "1 Steve 100  TRUE  M     \n",
              "2 John  200 FALSE  M     \n",
              "3 Rita  300  TRUE  F     "
            ]
          },
          "metadata": {}
        },
        {
          "output_type": "stream",
          "name": "stdout",
          "text": [
            "[1] \"Grab a slice on two axes\"\n"
          ]
        },
        {
          "output_type": "display_data",
          "data": {
            "text/html": [
              "<table class=\"dataframe\">\n",
              "<caption>A data.frame: 2 × 2</caption>\n",
              "<thead>\n",
              "\t<tr><th></th><th scope=col>id</th><th scope=col>active</th></tr>\n",
              "\t<tr><th></th><th scope=col>&lt;dbl&gt;</th><th scope=col>&lt;lgl&gt;</th></tr>\n",
              "</thead>\n",
              "<tbody>\n",
              "\t<tr><th scope=row>1</th><td>100</td><td> TRUE</td></tr>\n",
              "\t<tr><th scope=row>2</th><td>200</td><td>FALSE</td></tr>\n",
              "</tbody>\n",
              "</table>\n"
            ],
            "text/markdown": "\nA data.frame: 2 × 2\n\n| <!--/--> | id &lt;dbl&gt; | active &lt;lgl&gt; |\n|---|---|---|\n| 1 | 100 |  TRUE |\n| 2 | 200 | FALSE |\n\n",
            "text/latex": "A data.frame: 2 × 2\n\\begin{tabular}{r|ll}\n  & id & active\\\\\n  & <dbl> & <lgl>\\\\\n\\hline\n\t1 & 100 &  TRUE\\\\\n\t2 & 200 & FALSE\\\\\n\\end{tabular}\n",
            "text/plain": [
              "  id  active\n",
              "1 100  TRUE \n",
              "2 200 FALSE "
            ]
          },
          "metadata": {}
        },
        {
          "output_type": "stream",
          "name": "stdout",
          "text": [
            "[1] \"Can skip around\"\n"
          ]
        },
        {
          "output_type": "display_data",
          "data": {
            "text/html": [
              "<table class=\"dataframe\">\n",
              "<caption>A data.frame: 2 × 2</caption>\n",
              "<thead>\n",
              "\t<tr><th></th><th scope=col>id</th><th scope=col>gender</th></tr>\n",
              "\t<tr><th></th><th scope=col>&lt;dbl&gt;</th><th scope=col>&lt;chr&gt;</th></tr>\n",
              "</thead>\n",
              "<tbody>\n",
              "\t<tr><th scope=row>1</th><td>100</td><td>M</td></tr>\n",
              "\t<tr><th scope=row>3</th><td>300</td><td>F</td></tr>\n",
              "</tbody>\n",
              "</table>\n"
            ],
            "text/markdown": "\nA data.frame: 2 × 2\n\n| <!--/--> | id &lt;dbl&gt; | gender &lt;chr&gt; |\n|---|---|---|\n| 1 | 100 | M |\n| 3 | 300 | F |\n\n",
            "text/latex": "A data.frame: 2 × 2\n\\begin{tabular}{r|ll}\n  & id & gender\\\\\n  & <dbl> & <chr>\\\\\n\\hline\n\t1 & 100 & M\\\\\n\t3 & 300 & F\\\\\n\\end{tabular}\n",
            "text/plain": [
              "  id  gender\n",
              "1 100 M     \n",
              "3 300 F     "
            ]
          },
          "metadata": {}
        }
      ]
    },
    {
      "cell_type": "code",
      "source": [
        "family\n",
        "print(\"Remove a row and select by column name\")\n",
        "family[-3,c(\"name\",\"gender\")] #remove & select by name"
      ],
      "metadata": {
        "colab": {
          "base_uri": "https://localhost:8080/",
          "height": 353
        },
        "id": "twX1-r3LYrg7",
        "outputId": "eb5e5a65-721e-4309-f0eb-449fe707f579"
      },
      "execution_count": 34,
      "outputs": [
        {
          "output_type": "display_data",
          "data": {
            "text/html": [
              "<table class=\"dataframe\">\n",
              "<caption>A data.frame: 3 × 4</caption>\n",
              "<thead>\n",
              "\t<tr><th scope=col>name</th><th scope=col>id</th><th scope=col>active</th><th scope=col>gender</th></tr>\n",
              "\t<tr><th scope=col>&lt;chr&gt;</th><th scope=col>&lt;dbl&gt;</th><th scope=col>&lt;lgl&gt;</th><th scope=col>&lt;chr&gt;</th></tr>\n",
              "</thead>\n",
              "<tbody>\n",
              "\t<tr><td>Steve</td><td>100</td><td> TRUE</td><td>M</td></tr>\n",
              "\t<tr><td>John </td><td>200</td><td>FALSE</td><td>M</td></tr>\n",
              "\t<tr><td>Rita </td><td>300</td><td> TRUE</td><td>F</td></tr>\n",
              "</tbody>\n",
              "</table>\n"
            ],
            "text/markdown": "\nA data.frame: 3 × 4\n\n| name &lt;chr&gt; | id &lt;dbl&gt; | active &lt;lgl&gt; | gender &lt;chr&gt; |\n|---|---|---|---|\n| Steve | 100 |  TRUE | M |\n| John  | 200 | FALSE | M |\n| Rita  | 300 |  TRUE | F |\n\n",
            "text/latex": "A data.frame: 3 × 4\n\\begin{tabular}{llll}\n name & id & active & gender\\\\\n <chr> & <dbl> & <lgl> & <chr>\\\\\n\\hline\n\t Steve & 100 &  TRUE & M\\\\\n\t John  & 200 & FALSE & M\\\\\n\t Rita  & 300 &  TRUE & F\\\\\n\\end{tabular}\n",
            "text/plain": [
              "  name  id  active gender\n",
              "1 Steve 100  TRUE  M     \n",
              "2 John  200 FALSE  M     \n",
              "3 Rita  300  TRUE  F     "
            ]
          },
          "metadata": {}
        },
        {
          "output_type": "stream",
          "name": "stdout",
          "text": [
            "[1] \"Remove a row and select by column name\"\n"
          ]
        },
        {
          "output_type": "display_data",
          "data": {
            "text/html": [
              "<table class=\"dataframe\">\n",
              "<caption>A data.frame: 2 × 2</caption>\n",
              "<thead>\n",
              "\t<tr><th></th><th scope=col>name</th><th scope=col>gender</th></tr>\n",
              "\t<tr><th></th><th scope=col>&lt;chr&gt;</th><th scope=col>&lt;chr&gt;</th></tr>\n",
              "</thead>\n",
              "<tbody>\n",
              "\t<tr><th scope=row>1</th><td>Steve</td><td>M</td></tr>\n",
              "\t<tr><th scope=row>2</th><td>John </td><td>M</td></tr>\n",
              "</tbody>\n",
              "</table>\n"
            ],
            "text/markdown": "\nA data.frame: 2 × 2\n\n| <!--/--> | name &lt;chr&gt; | gender &lt;chr&gt; |\n|---|---|---|\n| 1 | Steve | M |\n| 2 | John  | M |\n\n",
            "text/latex": "A data.frame: 2 × 2\n\\begin{tabular}{r|ll}\n  & name & gender\\\\\n  & <chr> & <chr>\\\\\n\\hline\n\t1 & Steve & M\\\\\n\t2 & John  & M\\\\\n\\end{tabular}\n",
            "text/plain": [
              "  name  gender\n",
              "1 Steve M     \n",
              "2 John  M     "
            ]
          },
          "metadata": {}
        }
      ]
    },
    {
      "cell_type": "markdown",
      "source": [
        "Updating Data Frame Contents"
      ],
      "metadata": {
        "id": "RbCA3MFh2C4m"
      }
    },
    {
      "cell_type": "code",
      "source": [
        "# using famous \"iris\" data set - it just lives forever in many data science environments for demonstration purposes\n",
        "iris"
      ],
      "metadata": {
        "colab": {
          "base_uri": "https://localhost:8080/",
          "height": 1000
        },
        "id": "VJWn4fBO2azB",
        "outputId": "d6b29546-cf96-4f32-f93c-93e1cd02f1e9"
      },
      "execution_count": 36,
      "outputs": [
        {
          "output_type": "display_data",
          "data": {
            "text/html": [
              "<table class=\"dataframe\">\n",
              "<caption>A data.frame: 150 × 5</caption>\n",
              "<thead>\n",
              "\t<tr><th scope=col>Sepal.Length</th><th scope=col>Sepal.Width</th><th scope=col>Petal.Length</th><th scope=col>Petal.Width</th><th scope=col>Species</th></tr>\n",
              "\t<tr><th scope=col>&lt;dbl&gt;</th><th scope=col>&lt;dbl&gt;</th><th scope=col>&lt;dbl&gt;</th><th scope=col>&lt;dbl&gt;</th><th scope=col>&lt;fct&gt;</th></tr>\n",
              "</thead>\n",
              "<tbody>\n",
              "\t<tr><td>5.1</td><td>3.5</td><td>1.4</td><td>0.2</td><td>setosa</td></tr>\n",
              "\t<tr><td>4.9</td><td>3.0</td><td>1.4</td><td>0.2</td><td>setosa</td></tr>\n",
              "\t<tr><td>4.7</td><td>3.2</td><td>1.3</td><td>0.2</td><td>setosa</td></tr>\n",
              "\t<tr><td>4.6</td><td>3.1</td><td>1.5</td><td>0.2</td><td>setosa</td></tr>\n",
              "\t<tr><td>5.0</td><td>3.6</td><td>1.4</td><td>0.2</td><td>setosa</td></tr>\n",
              "\t<tr><td>5.4</td><td>3.9</td><td>1.7</td><td>0.4</td><td>setosa</td></tr>\n",
              "\t<tr><td>4.6</td><td>3.4</td><td>1.4</td><td>0.3</td><td>setosa</td></tr>\n",
              "\t<tr><td>5.0</td><td>3.4</td><td>1.5</td><td>0.2</td><td>setosa</td></tr>\n",
              "\t<tr><td>4.4</td><td>2.9</td><td>1.4</td><td>0.2</td><td>setosa</td></tr>\n",
              "\t<tr><td>4.9</td><td>3.1</td><td>1.5</td><td>0.1</td><td>setosa</td></tr>\n",
              "\t<tr><td>5.4</td><td>3.7</td><td>1.5</td><td>0.2</td><td>setosa</td></tr>\n",
              "\t<tr><td>4.8</td><td>3.4</td><td>1.6</td><td>0.2</td><td>setosa</td></tr>\n",
              "\t<tr><td>4.8</td><td>3.0</td><td>1.4</td><td>0.1</td><td>setosa</td></tr>\n",
              "\t<tr><td>4.3</td><td>3.0</td><td>1.1</td><td>0.1</td><td>setosa</td></tr>\n",
              "\t<tr><td>5.8</td><td>4.0</td><td>1.2</td><td>0.2</td><td>setosa</td></tr>\n",
              "\t<tr><td>5.7</td><td>4.4</td><td>1.5</td><td>0.4</td><td>setosa</td></tr>\n",
              "\t<tr><td>5.4</td><td>3.9</td><td>1.3</td><td>0.4</td><td>setosa</td></tr>\n",
              "\t<tr><td>5.1</td><td>3.5</td><td>1.4</td><td>0.3</td><td>setosa</td></tr>\n",
              "\t<tr><td>5.7</td><td>3.8</td><td>1.7</td><td>0.3</td><td>setosa</td></tr>\n",
              "\t<tr><td>5.1</td><td>3.8</td><td>1.5</td><td>0.3</td><td>setosa</td></tr>\n",
              "\t<tr><td>5.4</td><td>3.4</td><td>1.7</td><td>0.2</td><td>setosa</td></tr>\n",
              "\t<tr><td>5.1</td><td>3.7</td><td>1.5</td><td>0.4</td><td>setosa</td></tr>\n",
              "\t<tr><td>4.6</td><td>3.6</td><td>1.0</td><td>0.2</td><td>setosa</td></tr>\n",
              "\t<tr><td>5.1</td><td>3.3</td><td>1.7</td><td>0.5</td><td>setosa</td></tr>\n",
              "\t<tr><td>4.8</td><td>3.4</td><td>1.9</td><td>0.2</td><td>setosa</td></tr>\n",
              "\t<tr><td>5.0</td><td>3.0</td><td>1.6</td><td>0.2</td><td>setosa</td></tr>\n",
              "\t<tr><td>5.0</td><td>3.4</td><td>1.6</td><td>0.4</td><td>setosa</td></tr>\n",
              "\t<tr><td>5.2</td><td>3.5</td><td>1.5</td><td>0.2</td><td>setosa</td></tr>\n",
              "\t<tr><td>5.2</td><td>3.4</td><td>1.4</td><td>0.2</td><td>setosa</td></tr>\n",
              "\t<tr><td>4.7</td><td>3.2</td><td>1.6</td><td>0.2</td><td>setosa</td></tr>\n",
              "\t<tr><td>⋮</td><td>⋮</td><td>⋮</td><td>⋮</td><td>⋮</td></tr>\n",
              "\t<tr><td>6.9</td><td>3.2</td><td>5.7</td><td>2.3</td><td>virginica</td></tr>\n",
              "\t<tr><td>5.6</td><td>2.8</td><td>4.9</td><td>2.0</td><td>virginica</td></tr>\n",
              "\t<tr><td>7.7</td><td>2.8</td><td>6.7</td><td>2.0</td><td>virginica</td></tr>\n",
              "\t<tr><td>6.3</td><td>2.7</td><td>4.9</td><td>1.8</td><td>virginica</td></tr>\n",
              "\t<tr><td>6.7</td><td>3.3</td><td>5.7</td><td>2.1</td><td>virginica</td></tr>\n",
              "\t<tr><td>7.2</td><td>3.2</td><td>6.0</td><td>1.8</td><td>virginica</td></tr>\n",
              "\t<tr><td>6.2</td><td>2.8</td><td>4.8</td><td>1.8</td><td>virginica</td></tr>\n",
              "\t<tr><td>6.1</td><td>3.0</td><td>4.9</td><td>1.8</td><td>virginica</td></tr>\n",
              "\t<tr><td>6.4</td><td>2.8</td><td>5.6</td><td>2.1</td><td>virginica</td></tr>\n",
              "\t<tr><td>7.2</td><td>3.0</td><td>5.8</td><td>1.6</td><td>virginica</td></tr>\n",
              "\t<tr><td>7.4</td><td>2.8</td><td>6.1</td><td>1.9</td><td>virginica</td></tr>\n",
              "\t<tr><td>7.9</td><td>3.8</td><td>6.4</td><td>2.0</td><td>virginica</td></tr>\n",
              "\t<tr><td>6.4</td><td>2.8</td><td>5.6</td><td>2.2</td><td>virginica</td></tr>\n",
              "\t<tr><td>6.3</td><td>2.8</td><td>5.1</td><td>1.5</td><td>virginica</td></tr>\n",
              "\t<tr><td>6.1</td><td>2.6</td><td>5.6</td><td>1.4</td><td>virginica</td></tr>\n",
              "\t<tr><td>7.7</td><td>3.0</td><td>6.1</td><td>2.3</td><td>virginica</td></tr>\n",
              "\t<tr><td>6.3</td><td>3.4</td><td>5.6</td><td>2.4</td><td>virginica</td></tr>\n",
              "\t<tr><td>6.4</td><td>3.1</td><td>5.5</td><td>1.8</td><td>virginica</td></tr>\n",
              "\t<tr><td>6.0</td><td>3.0</td><td>4.8</td><td>1.8</td><td>virginica</td></tr>\n",
              "\t<tr><td>6.9</td><td>3.1</td><td>5.4</td><td>2.1</td><td>virginica</td></tr>\n",
              "\t<tr><td>6.7</td><td>3.1</td><td>5.6</td><td>2.4</td><td>virginica</td></tr>\n",
              "\t<tr><td>6.9</td><td>3.1</td><td>5.1</td><td>2.3</td><td>virginica</td></tr>\n",
              "\t<tr><td>5.8</td><td>2.7</td><td>5.1</td><td>1.9</td><td>virginica</td></tr>\n",
              "\t<tr><td>6.8</td><td>3.2</td><td>5.9</td><td>2.3</td><td>virginica</td></tr>\n",
              "\t<tr><td>6.7</td><td>3.3</td><td>5.7</td><td>2.5</td><td>virginica</td></tr>\n",
              "\t<tr><td>6.7</td><td>3.0</td><td>5.2</td><td>2.3</td><td>virginica</td></tr>\n",
              "\t<tr><td>6.3</td><td>2.5</td><td>5.0</td><td>1.9</td><td>virginica</td></tr>\n",
              "\t<tr><td>6.5</td><td>3.0</td><td>5.2</td><td>2.0</td><td>virginica</td></tr>\n",
              "\t<tr><td>6.2</td><td>3.4</td><td>5.4</td><td>2.3</td><td>virginica</td></tr>\n",
              "\t<tr><td>5.9</td><td>3.0</td><td>5.1</td><td>1.8</td><td>virginica</td></tr>\n",
              "</tbody>\n",
              "</table>\n"
            ],
            "text/markdown": "\nA data.frame: 150 × 5\n\n| Sepal.Length &lt;dbl&gt; | Sepal.Width &lt;dbl&gt; | Petal.Length &lt;dbl&gt; | Petal.Width &lt;dbl&gt; | Species &lt;fct&gt; |\n|---|---|---|---|---|\n| 5.1 | 3.5 | 1.4 | 0.2 | setosa |\n| 4.9 | 3.0 | 1.4 | 0.2 | setosa |\n| 4.7 | 3.2 | 1.3 | 0.2 | setosa |\n| 4.6 | 3.1 | 1.5 | 0.2 | setosa |\n| 5.0 | 3.6 | 1.4 | 0.2 | setosa |\n| 5.4 | 3.9 | 1.7 | 0.4 | setosa |\n| 4.6 | 3.4 | 1.4 | 0.3 | setosa |\n| 5.0 | 3.4 | 1.5 | 0.2 | setosa |\n| 4.4 | 2.9 | 1.4 | 0.2 | setosa |\n| 4.9 | 3.1 | 1.5 | 0.1 | setosa |\n| 5.4 | 3.7 | 1.5 | 0.2 | setosa |\n| 4.8 | 3.4 | 1.6 | 0.2 | setosa |\n| 4.8 | 3.0 | 1.4 | 0.1 | setosa |\n| 4.3 | 3.0 | 1.1 | 0.1 | setosa |\n| 5.8 | 4.0 | 1.2 | 0.2 | setosa |\n| 5.7 | 4.4 | 1.5 | 0.4 | setosa |\n| 5.4 | 3.9 | 1.3 | 0.4 | setosa |\n| 5.1 | 3.5 | 1.4 | 0.3 | setosa |\n| 5.7 | 3.8 | 1.7 | 0.3 | setosa |\n| 5.1 | 3.8 | 1.5 | 0.3 | setosa |\n| 5.4 | 3.4 | 1.7 | 0.2 | setosa |\n| 5.1 | 3.7 | 1.5 | 0.4 | setosa |\n| 4.6 | 3.6 | 1.0 | 0.2 | setosa |\n| 5.1 | 3.3 | 1.7 | 0.5 | setosa |\n| 4.8 | 3.4 | 1.9 | 0.2 | setosa |\n| 5.0 | 3.0 | 1.6 | 0.2 | setosa |\n| 5.0 | 3.4 | 1.6 | 0.4 | setosa |\n| 5.2 | 3.5 | 1.5 | 0.2 | setosa |\n| 5.2 | 3.4 | 1.4 | 0.2 | setosa |\n| 4.7 | 3.2 | 1.6 | 0.2 | setosa |\n| ⋮ | ⋮ | ⋮ | ⋮ | ⋮ |\n| 6.9 | 3.2 | 5.7 | 2.3 | virginica |\n| 5.6 | 2.8 | 4.9 | 2.0 | virginica |\n| 7.7 | 2.8 | 6.7 | 2.0 | virginica |\n| 6.3 | 2.7 | 4.9 | 1.8 | virginica |\n| 6.7 | 3.3 | 5.7 | 2.1 | virginica |\n| 7.2 | 3.2 | 6.0 | 1.8 | virginica |\n| 6.2 | 2.8 | 4.8 | 1.8 | virginica |\n| 6.1 | 3.0 | 4.9 | 1.8 | virginica |\n| 6.4 | 2.8 | 5.6 | 2.1 | virginica |\n| 7.2 | 3.0 | 5.8 | 1.6 | virginica |\n| 7.4 | 2.8 | 6.1 | 1.9 | virginica |\n| 7.9 | 3.8 | 6.4 | 2.0 | virginica |\n| 6.4 | 2.8 | 5.6 | 2.2 | virginica |\n| 6.3 | 2.8 | 5.1 | 1.5 | virginica |\n| 6.1 | 2.6 | 5.6 | 1.4 | virginica |\n| 7.7 | 3.0 | 6.1 | 2.3 | virginica |\n| 6.3 | 3.4 | 5.6 | 2.4 | virginica |\n| 6.4 | 3.1 | 5.5 | 1.8 | virginica |\n| 6.0 | 3.0 | 4.8 | 1.8 | virginica |\n| 6.9 | 3.1 | 5.4 | 2.1 | virginica |\n| 6.7 | 3.1 | 5.6 | 2.4 | virginica |\n| 6.9 | 3.1 | 5.1 | 2.3 | virginica |\n| 5.8 | 2.7 | 5.1 | 1.9 | virginica |\n| 6.8 | 3.2 | 5.9 | 2.3 | virginica |\n| 6.7 | 3.3 | 5.7 | 2.5 | virginica |\n| 6.7 | 3.0 | 5.2 | 2.3 | virginica |\n| 6.3 | 2.5 | 5.0 | 1.9 | virginica |\n| 6.5 | 3.0 | 5.2 | 2.0 | virginica |\n| 6.2 | 3.4 | 5.4 | 2.3 | virginica |\n| 5.9 | 3.0 | 5.1 | 1.8 | virginica |\n\n",
            "text/latex": "A data.frame: 150 × 5\n\\begin{tabular}{lllll}\n Sepal.Length & Sepal.Width & Petal.Length & Petal.Width & Species\\\\\n <dbl> & <dbl> & <dbl> & <dbl> & <fct>\\\\\n\\hline\n\t 5.1 & 3.5 & 1.4 & 0.2 & setosa\\\\\n\t 4.9 & 3.0 & 1.4 & 0.2 & setosa\\\\\n\t 4.7 & 3.2 & 1.3 & 0.2 & setosa\\\\\n\t 4.6 & 3.1 & 1.5 & 0.2 & setosa\\\\\n\t 5.0 & 3.6 & 1.4 & 0.2 & setosa\\\\\n\t 5.4 & 3.9 & 1.7 & 0.4 & setosa\\\\\n\t 4.6 & 3.4 & 1.4 & 0.3 & setosa\\\\\n\t 5.0 & 3.4 & 1.5 & 0.2 & setosa\\\\\n\t 4.4 & 2.9 & 1.4 & 0.2 & setosa\\\\\n\t 4.9 & 3.1 & 1.5 & 0.1 & setosa\\\\\n\t 5.4 & 3.7 & 1.5 & 0.2 & setosa\\\\\n\t 4.8 & 3.4 & 1.6 & 0.2 & setosa\\\\\n\t 4.8 & 3.0 & 1.4 & 0.1 & setosa\\\\\n\t 4.3 & 3.0 & 1.1 & 0.1 & setosa\\\\\n\t 5.8 & 4.0 & 1.2 & 0.2 & setosa\\\\\n\t 5.7 & 4.4 & 1.5 & 0.4 & setosa\\\\\n\t 5.4 & 3.9 & 1.3 & 0.4 & setosa\\\\\n\t 5.1 & 3.5 & 1.4 & 0.3 & setosa\\\\\n\t 5.7 & 3.8 & 1.7 & 0.3 & setosa\\\\\n\t 5.1 & 3.8 & 1.5 & 0.3 & setosa\\\\\n\t 5.4 & 3.4 & 1.7 & 0.2 & setosa\\\\\n\t 5.1 & 3.7 & 1.5 & 0.4 & setosa\\\\\n\t 4.6 & 3.6 & 1.0 & 0.2 & setosa\\\\\n\t 5.1 & 3.3 & 1.7 & 0.5 & setosa\\\\\n\t 4.8 & 3.4 & 1.9 & 0.2 & setosa\\\\\n\t 5.0 & 3.0 & 1.6 & 0.2 & setosa\\\\\n\t 5.0 & 3.4 & 1.6 & 0.4 & setosa\\\\\n\t 5.2 & 3.5 & 1.5 & 0.2 & setosa\\\\\n\t 5.2 & 3.4 & 1.4 & 0.2 & setosa\\\\\n\t 4.7 & 3.2 & 1.6 & 0.2 & setosa\\\\\n\t ⋮ & ⋮ & ⋮ & ⋮ & ⋮\\\\\n\t 6.9 & 3.2 & 5.7 & 2.3 & virginica\\\\\n\t 5.6 & 2.8 & 4.9 & 2.0 & virginica\\\\\n\t 7.7 & 2.8 & 6.7 & 2.0 & virginica\\\\\n\t 6.3 & 2.7 & 4.9 & 1.8 & virginica\\\\\n\t 6.7 & 3.3 & 5.7 & 2.1 & virginica\\\\\n\t 7.2 & 3.2 & 6.0 & 1.8 & virginica\\\\\n\t 6.2 & 2.8 & 4.8 & 1.8 & virginica\\\\\n\t 6.1 & 3.0 & 4.9 & 1.8 & virginica\\\\\n\t 6.4 & 2.8 & 5.6 & 2.1 & virginica\\\\\n\t 7.2 & 3.0 & 5.8 & 1.6 & virginica\\\\\n\t 7.4 & 2.8 & 6.1 & 1.9 & virginica\\\\\n\t 7.9 & 3.8 & 6.4 & 2.0 & virginica\\\\\n\t 6.4 & 2.8 & 5.6 & 2.2 & virginica\\\\\n\t 6.3 & 2.8 & 5.1 & 1.5 & virginica\\\\\n\t 6.1 & 2.6 & 5.6 & 1.4 & virginica\\\\\n\t 7.7 & 3.0 & 6.1 & 2.3 & virginica\\\\\n\t 6.3 & 3.4 & 5.6 & 2.4 & virginica\\\\\n\t 6.4 & 3.1 & 5.5 & 1.8 & virginica\\\\\n\t 6.0 & 3.0 & 4.8 & 1.8 & virginica\\\\\n\t 6.9 & 3.1 & 5.4 & 2.1 & virginica\\\\\n\t 6.7 & 3.1 & 5.6 & 2.4 & virginica\\\\\n\t 6.9 & 3.1 & 5.1 & 2.3 & virginica\\\\\n\t 5.8 & 2.7 & 5.1 & 1.9 & virginica\\\\\n\t 6.8 & 3.2 & 5.9 & 2.3 & virginica\\\\\n\t 6.7 & 3.3 & 5.7 & 2.5 & virginica\\\\\n\t 6.7 & 3.0 & 5.2 & 2.3 & virginica\\\\\n\t 6.3 & 2.5 & 5.0 & 1.9 & virginica\\\\\n\t 6.5 & 3.0 & 5.2 & 2.0 & virginica\\\\\n\t 6.2 & 3.4 & 5.4 & 2.3 & virginica\\\\\n\t 5.9 & 3.0 & 5.1 & 1.8 & virginica\\\\\n\\end{tabular}\n",
            "text/plain": [
              "    Sepal.Length Sepal.Width Petal.Length Petal.Width Species  \n",
              "1   5.1          3.5         1.4          0.2         setosa   \n",
              "2   4.9          3.0         1.4          0.2         setosa   \n",
              "3   4.7          3.2         1.3          0.2         setosa   \n",
              "4   4.6          3.1         1.5          0.2         setosa   \n",
              "5   5.0          3.6         1.4          0.2         setosa   \n",
              "6   5.4          3.9         1.7          0.4         setosa   \n",
              "7   4.6          3.4         1.4          0.3         setosa   \n",
              "8   5.0          3.4         1.5          0.2         setosa   \n",
              "9   4.4          2.9         1.4          0.2         setosa   \n",
              "10  4.9          3.1         1.5          0.1         setosa   \n",
              "11  5.4          3.7         1.5          0.2         setosa   \n",
              "12  4.8          3.4         1.6          0.2         setosa   \n",
              "13  4.8          3.0         1.4          0.1         setosa   \n",
              "14  4.3          3.0         1.1          0.1         setosa   \n",
              "15  5.8          4.0         1.2          0.2         setosa   \n",
              "16  5.7          4.4         1.5          0.4         setosa   \n",
              "17  5.4          3.9         1.3          0.4         setosa   \n",
              "18  5.1          3.5         1.4          0.3         setosa   \n",
              "19  5.7          3.8         1.7          0.3         setosa   \n",
              "20  5.1          3.8         1.5          0.3         setosa   \n",
              "21  5.4          3.4         1.7          0.2         setosa   \n",
              "22  5.1          3.7         1.5          0.4         setosa   \n",
              "23  4.6          3.6         1.0          0.2         setosa   \n",
              "24  5.1          3.3         1.7          0.5         setosa   \n",
              "25  4.8          3.4         1.9          0.2         setosa   \n",
              "26  5.0          3.0         1.6          0.2         setosa   \n",
              "27  5.0          3.4         1.6          0.4         setosa   \n",
              "28  5.2          3.5         1.5          0.2         setosa   \n",
              "29  5.2          3.4         1.4          0.2         setosa   \n",
              "30  4.7          3.2         1.6          0.2         setosa   \n",
              "⋮   ⋮            ⋮           ⋮            ⋮           ⋮        \n",
              "121 6.9          3.2         5.7          2.3         virginica\n",
              "122 5.6          2.8         4.9          2.0         virginica\n",
              "123 7.7          2.8         6.7          2.0         virginica\n",
              "124 6.3          2.7         4.9          1.8         virginica\n",
              "125 6.7          3.3         5.7          2.1         virginica\n",
              "126 7.2          3.2         6.0          1.8         virginica\n",
              "127 6.2          2.8         4.8          1.8         virginica\n",
              "128 6.1          3.0         4.9          1.8         virginica\n",
              "129 6.4          2.8         5.6          2.1         virginica\n",
              "130 7.2          3.0         5.8          1.6         virginica\n",
              "131 7.4          2.8         6.1          1.9         virginica\n",
              "132 7.9          3.8         6.4          2.0         virginica\n",
              "133 6.4          2.8         5.6          2.2         virginica\n",
              "134 6.3          2.8         5.1          1.5         virginica\n",
              "135 6.1          2.6         5.6          1.4         virginica\n",
              "136 7.7          3.0         6.1          2.3         virginica\n",
              "137 6.3          3.4         5.6          2.4         virginica\n",
              "138 6.4          3.1         5.5          1.8         virginica\n",
              "139 6.0          3.0         4.8          1.8         virginica\n",
              "140 6.9          3.1         5.4          2.1         virginica\n",
              "141 6.7          3.1         5.6          2.4         virginica\n",
              "142 6.9          3.1         5.1          2.3         virginica\n",
              "143 5.8          2.7         5.1          1.9         virginica\n",
              "144 6.8          3.2         5.9          2.3         virginica\n",
              "145 6.7          3.3         5.7          2.5         virginica\n",
              "146 6.7          3.0         5.2          2.3         virginica\n",
              "147 6.3          2.5         5.0          1.9         virginica\n",
              "148 6.5          3.0         5.2          2.0         virginica\n",
              "149 6.2          3.4         5.4          2.3         virginica\n",
              "150 5.9          3.0         5.1          1.8         virginica"
            ]
          },
          "metadata": {}
        }
      ]
    },
    {
      "cell_type": "code",
      "source": [
        "#update all values in column\n",
        "iris_copy <- iris\n",
        "mean(iris_copy$Petal.Width)\n",
        "iris_copy$Petal.Width <- 2\n",
        "mean(iris_copy$Petal.Width)\n",
        "head(iris_copy)"
      ],
      "metadata": {
        "colab": {
          "base_uri": "https://localhost:8080/",
          "height": 321
        },
        "id": "1ArULnta2jNJ",
        "outputId": "7fdcfe15-2f18-4b27-9c09-7968471000f1"
      },
      "execution_count": 37,
      "outputs": [
        {
          "output_type": "display_data",
          "data": {
            "text/html": [
              "1.19933333333333"
            ],
            "text/markdown": "1.19933333333333",
            "text/latex": "1.19933333333333",
            "text/plain": [
              "[1] 1.199333"
            ]
          },
          "metadata": {}
        },
        {
          "output_type": "display_data",
          "data": {
            "text/html": [
              "2"
            ],
            "text/markdown": "2",
            "text/latex": "2",
            "text/plain": [
              "[1] 2"
            ]
          },
          "metadata": {}
        },
        {
          "output_type": "display_data",
          "data": {
            "text/html": [
              "<table class=\"dataframe\">\n",
              "<caption>A data.frame: 6 × 5</caption>\n",
              "<thead>\n",
              "\t<tr><th></th><th scope=col>Sepal.Length</th><th scope=col>Sepal.Width</th><th scope=col>Petal.Length</th><th scope=col>Petal.Width</th><th scope=col>Species</th></tr>\n",
              "\t<tr><th></th><th scope=col>&lt;dbl&gt;</th><th scope=col>&lt;dbl&gt;</th><th scope=col>&lt;dbl&gt;</th><th scope=col>&lt;dbl&gt;</th><th scope=col>&lt;fct&gt;</th></tr>\n",
              "</thead>\n",
              "<tbody>\n",
              "\t<tr><th scope=row>1</th><td>5.1</td><td>3.5</td><td>1.4</td><td>2</td><td>setosa</td></tr>\n",
              "\t<tr><th scope=row>2</th><td>4.9</td><td>3.0</td><td>1.4</td><td>2</td><td>setosa</td></tr>\n",
              "\t<tr><th scope=row>3</th><td>4.7</td><td>3.2</td><td>1.3</td><td>2</td><td>setosa</td></tr>\n",
              "\t<tr><th scope=row>4</th><td>4.6</td><td>3.1</td><td>1.5</td><td>2</td><td>setosa</td></tr>\n",
              "\t<tr><th scope=row>5</th><td>5.0</td><td>3.6</td><td>1.4</td><td>2</td><td>setosa</td></tr>\n",
              "\t<tr><th scope=row>6</th><td>5.4</td><td>3.9</td><td>1.7</td><td>2</td><td>setosa</td></tr>\n",
              "</tbody>\n",
              "</table>\n"
            ],
            "text/markdown": "\nA data.frame: 6 × 5\n\n| <!--/--> | Sepal.Length &lt;dbl&gt; | Sepal.Width &lt;dbl&gt; | Petal.Length &lt;dbl&gt; | Petal.Width &lt;dbl&gt; | Species &lt;fct&gt; |\n|---|---|---|---|---|---|\n| 1 | 5.1 | 3.5 | 1.4 | 2 | setosa |\n| 2 | 4.9 | 3.0 | 1.4 | 2 | setosa |\n| 3 | 4.7 | 3.2 | 1.3 | 2 | setosa |\n| 4 | 4.6 | 3.1 | 1.5 | 2 | setosa |\n| 5 | 5.0 | 3.6 | 1.4 | 2 | setosa |\n| 6 | 5.4 | 3.9 | 1.7 | 2 | setosa |\n\n",
            "text/latex": "A data.frame: 6 × 5\n\\begin{tabular}{r|lllll}\n  & Sepal.Length & Sepal.Width & Petal.Length & Petal.Width & Species\\\\\n  & <dbl> & <dbl> & <dbl> & <dbl> & <fct>\\\\\n\\hline\n\t1 & 5.1 & 3.5 & 1.4 & 2 & setosa\\\\\n\t2 & 4.9 & 3.0 & 1.4 & 2 & setosa\\\\\n\t3 & 4.7 & 3.2 & 1.3 & 2 & setosa\\\\\n\t4 & 4.6 & 3.1 & 1.5 & 2 & setosa\\\\\n\t5 & 5.0 & 3.6 & 1.4 & 2 & setosa\\\\\n\t6 & 5.4 & 3.9 & 1.7 & 2 & setosa\\\\\n\\end{tabular}\n",
            "text/plain": [
              "  Sepal.Length Sepal.Width Petal.Length Petal.Width Species\n",
              "1 5.1          3.5         1.4          2           setosa \n",
              "2 4.9          3.0         1.4          2           setosa \n",
              "3 4.7          3.2         1.3          2           setosa \n",
              "4 4.6          3.1         1.5          2           setosa \n",
              "5 5.0          3.6         1.4          2           setosa \n",
              "6 5.4          3.9         1.7          2           setosa "
            ]
          },
          "metadata": {}
        }
      ]
    },
    {
      "cell_type": "code",
      "source": [
        "#update select values\n",
        "iris_copy <- iris\n",
        "print(\"mean and range before update...\")\n",
        "mean(iris_copy$Petal.Width)\n",
        "range(iris_copy$Petal.Width)\n",
        "iris_copy$Petal.Width[iris_copy$Petal.Width > 2] <- 2\n",
        "print(\"mean and range after update...\")\n",
        "mean(iris_copy$Petal.Width)\n",
        "range(iris_copy$Petal.Width)\n"
      ],
      "metadata": {
        "colab": {
          "base_uri": "https://localhost:8080/",
          "height": 121
        },
        "id": "MmRH_rTz2AZ4",
        "outputId": "240fc1c1-f494-494e-d18d-9c953933d648"
      },
      "execution_count": 38,
      "outputs": [
        {
          "output_type": "stream",
          "name": "stdout",
          "text": [
            "[1] \"mean and range before update...\"\n"
          ]
        },
        {
          "output_type": "display_data",
          "data": {
            "text/html": [
              "1.19933333333333"
            ],
            "text/markdown": "1.19933333333333",
            "text/latex": "1.19933333333333",
            "text/plain": [
              "[1] 1.199333"
            ]
          },
          "metadata": {}
        },
        {
          "output_type": "display_data",
          "data": {
            "text/html": [
              "<style>\n",
              ".list-inline {list-style: none; margin:0; padding: 0}\n",
              ".list-inline>li {display: inline-block}\n",
              ".list-inline>li:not(:last-child)::after {content: \"\\00b7\"; padding: 0 .5ex}\n",
              "</style>\n",
              "<ol class=list-inline><li>0.1</li><li>2.5</li></ol>\n"
            ],
            "text/markdown": "1. 0.1\n2. 2.5\n\n\n",
            "text/latex": "\\begin{enumerate*}\n\\item 0.1\n\\item 2.5\n\\end{enumerate*}\n",
            "text/plain": [
              "[1] 0.1 2.5"
            ]
          },
          "metadata": {}
        },
        {
          "output_type": "stream",
          "name": "stdout",
          "text": [
            "[1] \"mean and range after update...\"\n"
          ]
        },
        {
          "output_type": "display_data",
          "data": {
            "text/html": [
              "1.15733333333333"
            ],
            "text/markdown": "1.15733333333333",
            "text/latex": "1.15733333333333",
            "text/plain": [
              "[1] 1.157333"
            ]
          },
          "metadata": {}
        },
        {
          "output_type": "display_data",
          "data": {
            "text/html": [
              "<style>\n",
              ".list-inline {list-style: none; margin:0; padding: 0}\n",
              ".list-inline>li {display: inline-block}\n",
              ".list-inline>li:not(:last-child)::after {content: \"\\00b7\"; padding: 0 .5ex}\n",
              "</style>\n",
              "<ol class=list-inline><li>0.1</li><li>2</li></ol>\n"
            ],
            "text/markdown": "1. 0.1\n2. 2\n\n\n",
            "text/latex": "\\begin{enumerate*}\n\\item 0.1\n\\item 2\n\\end{enumerate*}\n",
            "text/plain": [
              "[1] 0.1 2.0"
            ]
          },
          "metadata": {}
        }
      ]
    },
    {
      "cell_type": "markdown",
      "source": [
        "Creating subsets of data frames"
      ],
      "metadata": {
        "id": "hw2LdcX63KGY"
      }
    },
    {
      "cell_type": "code",
      "source": [
        "# subset data based on logical values\n",
        "# notice == for equality\n",
        "setosa_iris <- subset(iris, Species == \"setosa\")\n",
        "head(setosa_iris)\n",
        "wide_sepals <- subset(iris, Sepal.Width > 4,\n",
        "                  select=c(Species, Sepal.Width))\n",
        "head(wide_sepals)\n"
      ],
      "metadata": {
        "id": "S2KJVvwx3PPI"
      },
      "execution_count": null,
      "outputs": []
    },
    {
      "cell_type": "markdown",
      "source": [
        "*HEY STEVE! Go back to slide 15 here! (Love, past you)*\n",
        "\n",
        "Applying SQL to dataframes\n",
        "* only does SELECTs, but can do almost any kind of SELECT you want"
      ],
      "metadata": {
        "id": "EuE548003zOh"
      }
    },
    {
      "cell_type": "code",
      "source": [
        "install.packages(\"sqldf\")\n",
        "library(sqldf)\n",
        "sqldf('select [Sepal.Width], Species from iris where [Sepal.Width] > 4')\n"
      ],
      "metadata": {
        "colab": {
          "base_uri": "https://localhost:8080/",
          "height": 435
        },
        "id": "xi3prIHq4BZO",
        "outputId": "5e9a14e0-0da0-4b6f-f643-3d35e47608eb"
      },
      "execution_count": 40,
      "outputs": [
        {
          "output_type": "stream",
          "name": "stderr",
          "text": [
            "Installing package into ‘/usr/local/lib/R/site-library’\n",
            "(as ‘lib’ is unspecified)\n",
            "\n",
            "also installing the dependencies ‘plogr’, ‘gsubfn’, ‘proto’, ‘RSQLite’, ‘chron’\n",
            "\n",
            "\n",
            "Loading required package: gsubfn\n",
            "\n",
            "Loading required package: proto\n",
            "\n",
            "Warning message:\n",
            "“no DISPLAY variable so Tk is not available”\n",
            "Loading required package: RSQLite\n",
            "\n"
          ]
        },
        {
          "output_type": "display_data",
          "data": {
            "text/html": [
              "<table class=\"dataframe\">\n",
              "<caption>A data.frame: 3 × 2</caption>\n",
              "<thead>\n",
              "\t<tr><th scope=col>Sepal.Width</th><th scope=col>Species</th></tr>\n",
              "\t<tr><th scope=col>&lt;dbl&gt;</th><th scope=col>&lt;fct&gt;</th></tr>\n",
              "</thead>\n",
              "<tbody>\n",
              "\t<tr><td>4.4</td><td>setosa</td></tr>\n",
              "\t<tr><td>4.1</td><td>setosa</td></tr>\n",
              "\t<tr><td>4.2</td><td>setosa</td></tr>\n",
              "</tbody>\n",
              "</table>\n"
            ],
            "text/markdown": "\nA data.frame: 3 × 2\n\n| Sepal.Width &lt;dbl&gt; | Species &lt;fct&gt; |\n|---|---|\n| 4.4 | setosa |\n| 4.1 | setosa |\n| 4.2 | setosa |\n\n",
            "text/latex": "A data.frame: 3 × 2\n\\begin{tabular}{ll}\n Sepal.Width & Species\\\\\n <dbl> & <fct>\\\\\n\\hline\n\t 4.4 & setosa\\\\\n\t 4.1 & setosa\\\\\n\t 4.2 & setosa\\\\\n\\end{tabular}\n",
            "text/plain": [
              "  Sepal.Width Species\n",
              "1 4.4         setosa \n",
              "2 4.1         setosa \n",
              "3 4.2         setosa "
            ]
          },
          "metadata": {}
        }
      ]
    }
  ]
}
{
  "nbformat": 4,
  "nbformat_minor": 0,
  "metadata": {
    "colab": {
      "provenance": [],
      "private_outputs": true,
      "authorship_tag": "ABX9TyOhmqis/mHHhuxrw010r9+9",
      "include_colab_link": true
    },
    "kernelspec": {
      "name": "ir",
      "display_name": "R"
    },
    "language_info": {
      "name": "R"
    }
  },
  "cells": [
    {
      "cell_type": "markdown",
      "metadata": {
        "id": "view-in-github",
        "colab_type": "text"
      },
      "source": [
        "<a href=\"https://colab.research.google.com/github/stephenfrein/csc8491/blob/main/R_Data_Structures.ipynb\" target=\"_parent\"><img src=\"https://colab.research.google.com/assets/colab-badge.svg\" alt=\"Open In Colab\"/></a>"
      ]
    },
    {
      "cell_type": "markdown",
      "source": [
        "# R Data Structures #\n",
        "\n",
        "We'll be working with a number of data structures that are fundamental to R programming and analysis."
      ],
      "metadata": {
        "id": "DlYfPChx1gfZ"
      }
    },
    {
      "cell_type": "markdown",
      "source": [
        "**Vector** - ordered set of values using the same type"
      ],
      "metadata": {
        "id": "lQnqYc1XQKs6"
      }
    },
    {
      "cell_type": "code",
      "source": [
        "# c is combine function - creates a vector\n",
        "names = c(\"Steve\",\"John\",\"Rita\")\n",
        "names\n",
        "typeof(names)\n",
        "#single quotes equivalent, but R style is to use double\n",
        "#names = c('Steve','John','Rita')"
      ],
      "metadata": {
        "id": "Pg0NCawuQC6F"
      },
      "execution_count": null,
      "outputs": []
    },
    {
      "cell_type": "code",
      "source": [
        "# numeric\n",
        "nums = c(100,200,300)\n",
        "nums\n",
        "typeof(nums)\n",
        "\n",
        "# boolean (logical)\n",
        "bools = c(TRUE,FALSE,TRUE)\n",
        "bools\n",
        "typeof(bools)"
      ],
      "metadata": {
        "id": "Pc8mvFIdQ3QE"
      },
      "execution_count": null,
      "outputs": []
    },
    {
      "cell_type": "code",
      "source": [
        "#access specific elements with one-based indexing\n",
        "nums[3]\n",
        "nums[4] = 400\n",
        "nums\n",
        "typeof(nums)\n",
        "nums[5] = \"ABC\"\n",
        "nums\n",
        "typeof(nums)"
      ],
      "metadata": {
        "id": "I3_rCt09RPQ4"
      },
      "execution_count": null,
      "outputs": []
    },
    {
      "cell_type": "code",
      "execution_count": null,
      "metadata": {
        "id": "I0LVjo24Pb5k"
      },
      "outputs": [],
      "source": [
        "#ranges\n",
        "names\n",
        "names[2:3]\n",
        "#exclude with minus\n",
        "names[-3]\n",
        "#logical vector for inclusions\n",
        "bools\n",
        "names[bools]\n",
        "\n"
      ]
    },
    {
      "cell_type": "markdown",
      "source": [
        "\n",
        "**Factor** - vector used for nominal (category) variables\n",
        "\n",
        "*   for a limited number of values\n",
        "*   stores category labels only once – basically a small lookup table\n",
        "*   classification algorithms will often expect categorical target variables to be represented as factors\n",
        "\n",
        "\n",
        "\n",
        "\n"
      ],
      "metadata": {
        "id": "1qvaZryKRzr3"
      }
    },
    {
      "cell_type": "code",
      "source": [
        "# . is just another character in R names\n",
        "colors.vector = c(\"Red\",\"Blue\",\"Green\")\n",
        "colors.factor = factor(c(\"Red\",\"Blue\",\"Green\"))\n",
        "print('Vector below: ')\n",
        "colors.vector\n",
        "print('Factor below: ')\n",
        "colors.factor\n",
        "print('Vector selection below: ')\n",
        "colors.vector[2]\n",
        "print('Factor selection below: ')\n",
        "colors.factor[2]"
      ],
      "metadata": {
        "id": "INSXHnMaRzUG"
      },
      "execution_count": null,
      "outputs": []
    },
    {
      "cell_type": "markdown",
      "source": [
        "**List** - doesn't require all elements to be of same type\n",
        "\n",
        "* can give names to elements of list and reference the names"
      ],
      "metadata": {
        "id": "oVafJMtTUe4q"
      }
    },
    {
      "cell_type": "code",
      "source": [
        "list1 = list(\"Steve\",123, TRUE)\n",
        "list2 = list(firstname=\"Steve\",id=123,active=TRUE)\n",
        "#access specific elements with one-based indexing\n",
        "print(\"indexing is one-based\")\n",
        "list2[2]\n",
        "#or with name-based indexing\n",
        "print(\"or it can be name-based\")\n",
        "list2$firstname\n",
        "#or with a name vector\n",
        "print(\"it can use a name vector too\")\n",
        "list2[c(\"firstname\",\"active\")]"
      ],
      "metadata": {
        "id": "__wWkTJ7V8Ak"
      },
      "execution_count": null,
      "outputs": []
    },
    {
      "cell_type": "code",
      "source": [
        "### YOU TRY -  how would you pick some elements of the list using a logical vector? ###\n",
        "### try it in this cell ###"
      ],
      "metadata": {
        "id": "WJh69DjfWjPD"
      },
      "execution_count": null,
      "outputs": []
    },
    {
      "cell_type": "markdown",
      "source": [
        "**Data Frame** - tabular structure with rows and columns\n",
        "\n",
        "* a list of vectors\n",
        "* you'll use these often - most model-building libraries with expect your data in this form"
      ],
      "metadata": {
        "id": "QacNi0zIYR5X"
      }
    },
    {
      "cell_type": "code",
      "source": [
        "name = c(\"Steve\",\"John\",\"Rita\")\n",
        "id = c(100,200,300)\n",
        "active = c(TRUE,FALSE,TRUE)\n",
        "gender = c(\"M\",\"M\",\"F\")\n",
        "#create a data frame - basically a list of same-length vectors\n",
        "family = data.frame(name, id, active, gender)\n",
        "print(\"Show the data frame\")\n",
        "family\n",
        "print(\"What's it's structure?\")\n",
        "# str works on all kinds of variables in R\n",
        "str(family)"
      ],
      "metadata": {
        "id": "WDeTqdXlagRO"
      },
      "execution_count": null,
      "outputs": []
    },
    {
      "cell_type": "code",
      "source": [
        "#elements in this list have names\n",
        "print(\"Pick one column\")\n",
        "family$name"
      ],
      "metadata": {
        "id": "tfDzIWDzb55W"
      },
      "execution_count": null,
      "outputs": []
    },
    {
      "cell_type": "code",
      "source": [
        "family\n",
        "#select positionally using [rows, cols] notation\n",
        "print(\"Positional selections\")\n",
        "family[1,2]\n",
        "family[2,1]"
      ],
      "metadata": {
        "id": "qGpV0QUucUJQ"
      },
      "execution_count": null,
      "outputs": []
    },
    {
      "cell_type": "code",
      "source": [
        "print(\"Here's a row\")\n",
        "family[2,] #row\n",
        "print(\"Here's a column\")\n",
        "family[,4] #column"
      ],
      "metadata": {
        "id": "UnscEjIrckFI"
      },
      "execution_count": null,
      "outputs": []
    },
    {
      "cell_type": "code",
      "source": [
        "family\n",
        "print(\"Grab a slice on two axes\")\n",
        "family[1:2,2:3] #subset\n",
        "print(\"Can skip around\")\n",
        "family[c(1,3),c(2,4)] #skip row/column"
      ],
      "metadata": {
        "id": "v4LJvIJqb-qA"
      },
      "execution_count": null,
      "outputs": []
    },
    {
      "cell_type": "code",
      "source": [
        "family\n",
        "print(\"Remove a row and select by column name\")\n",
        "family[-3,c(\"name\",\"gender\")] #remove & select by name"
      ],
      "metadata": {
        "id": "twX1-r3LYrg7"
      },
      "execution_count": null,
      "outputs": []
    },
    {
      "cell_type": "markdown",
      "source": [
        "Updating Data Frame Contents"
      ],
      "metadata": {
        "id": "RbCA3MFh2C4m"
      }
    },
    {
      "cell_type": "code",
      "source": [
        "# using famous \"iris\" data set - it just lives forever in many data science environments for demonstration purposes\n",
        "iris"
      ],
      "metadata": {
        "id": "VJWn4fBO2azB"
      },
      "execution_count": null,
      "outputs": []
    },
    {
      "cell_type": "code",
      "source": [
        "#update all values in column\n",
        "iris_copy = iris\n",
        "mean(iris_copy$Petal.Width)\n",
        "iris_copy$Petal.Width = 2\n",
        "mean(iris_copy$Petal.Width)\n",
        "head(iris_copy)"
      ],
      "metadata": {
        "id": "1ArULnta2jNJ"
      },
      "execution_count": null,
      "outputs": []
    },
    {
      "cell_type": "code",
      "source": [
        "#update select values\n",
        "iris_copy = iris\n",
        "print(\"mean and range before update...\")\n",
        "mean(iris_copy$Petal.Width)\n",
        "range(iris_copy$Petal.Width)\n",
        "iris_copy$Petal.Width[iris_copy$Petal.Width > 2] = 2\n",
        "print(\"mean and range after update...\")\n",
        "mean(iris_copy$Petal.Width)\n",
        "range(iris_copy$Petal.Width)\n"
      ],
      "metadata": {
        "id": "MmRH_rTz2AZ4"
      },
      "execution_count": null,
      "outputs": []
    },
    {
      "cell_type": "markdown",
      "source": [
        "Creating subsets of data frames"
      ],
      "metadata": {
        "id": "hw2LdcX63KGY"
      }
    },
    {
      "cell_type": "code",
      "source": [
        "# subset data based on logical values\n",
        "# notice == for equality\n",
        "setosa_iris = subset(iris, Species == \"setosa\")\n",
        "head(setosa_iris)\n",
        "wide_sepals = subset(iris, Sepal.Width > 4,\n",
        "                  select=c(Species, Sepal.Width))\n",
        "head(wide_sepals)\n"
      ],
      "metadata": {
        "id": "S2KJVvwx3PPI"
      },
      "execution_count": null,
      "outputs": []
    },
    {
      "cell_type": "markdown",
      "source": [
        "Applying SQL to dataframes\n",
        "* only does SELECTs, but can do almost any kind of SELECT you want"
      ],
      "metadata": {
        "id": "EuE548003zOh"
      }
    },
    {
      "cell_type": "code",
      "source": [
        "install.packages(\"sqldf\")\n",
        "library(sqldf)\n",
        "sqldf('select [Sepal.Width], Species from iris where [Sepal.Width] > 4')\n"
      ],
      "metadata": {
        "id": "xi3prIHq4BZO"
      },
      "execution_count": null,
      "outputs": []
    }
  ]
}
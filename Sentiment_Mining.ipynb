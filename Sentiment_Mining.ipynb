{
  "nbformat": 4,
  "nbformat_minor": 0,
  "metadata": {
    "colab": {
      "private_outputs": true,
      "provenance": [],
      "authorship_tag": "ABX9TyM+DLP9z7xPHgG/jhaIUqM3",
      "include_colab_link": true
    },
    "kernelspec": {
      "name": "ir",
      "display_name": "R"
    },
    "language_info": {
      "name": "R"
    }
  },
  "cells": [
    {
      "cell_type": "markdown",
      "metadata": {
        "id": "view-in-github",
        "colab_type": "text"
      },
      "source": [
        "<a href=\"https://colab.research.google.com/github/stephenfrein/csc8491/blob/main/Sentiment_Mining.ipynb\" target=\"_parent\"><img src=\"https://colab.research.google.com/assets/colab-badge.svg\" alt=\"Open In Colab\"/></a>"
      ]
    },
    {
      "cell_type": "code",
      "source": [
        "install.packages(\"sentimentr\")\n",
        "library(sentimentr)"
      ],
      "metadata": {
        "id": "xxm7Ci-ZLF2T"
      },
      "execution_count": null,
      "outputs": []
    },
    {
      "cell_type": "code",
      "execution_count": null,
      "metadata": {
        "id": "K0ZI2Ic5KrAx"
      },
      "outputs": [],
      "source": [
        "video_comments = read.csv(\"https://csc8491.s3.amazonaws.com/girls_like_you_comments.csv\")\n",
        "head(video_comments)"
      ]
    },
    {
      "cell_type": "code",
      "source": [
        "# make data frame of comments and scores\n",
        "comments_w_sentiment = data.frame(video_comments$simpleText,sentiment_by(video_comments$simpleText)$ave_sentiment)\n",
        "names(comments_w_sentiment)[1] = \"comment_text\"\n",
        "names(comments_w_sentiment)[2] = \"sentiment_score\"\n",
        "head(comments_w_sentiment)\n",
        "\n"
      ],
      "metadata": {
        "id": "x2bWWLx2L_Am"
      },
      "execution_count": null,
      "outputs": []
    },
    {
      "cell_type": "code",
      "source": [
        "# top n positive and negative comments\n",
        "# TRIGGER WARNING: some naughty language in here\n",
        "NUM_COMMENTS = 10\n",
        "# positive comments (negative makes it descending)\n",
        "head(comments_w_sentiment[order(-comments_w_sentiment$sentiment_score),], n=NUM_COMMENTS)\n",
        "# negative comments\n",
        "head(comments_w_sentiment[order(comments_w_sentiment$sentiment_score),], n=NUM_COMMENTS)"
      ],
      "metadata": {
        "id": "Edjmn-hzHEpL"
      },
      "execution_count": null,
      "outputs": []
    }
  ]
}
{
  "nbformat": 4,
  "nbformat_minor": 0,
  "metadata": {
    "colab": {
      "private_outputs": true,
      "provenance": [],
      "authorship_tag": "ABX9TyMMcpOADQFnsWdEOYuUK63Z",
      "include_colab_link": true
    },
    "kernelspec": {
      "name": "ir",
      "display_name": "R"
    },
    "language_info": {
      "name": "R"
    }
  },
  "cells": [
    {
      "cell_type": "markdown",
      "metadata": {
        "id": "view-in-github",
        "colab_type": "text"
      },
      "source": [
        "<a href=\"https://colab.research.google.com/github/stephenfrein/csc8491/blob/main/Sentiment_Mining.ipynb\" target=\"_parent\"><img src=\"https://colab.research.google.com/assets/colab-badge.svg\" alt=\"Open In Colab\"/></a>"
      ]
    },
    {
      "cell_type": "code",
      "source": [
        "install.packages(\"sentimentr\")\n",
        "library(sentimentr)"
      ],
      "metadata": {
        "id": "xxm7Ci-ZLF2T"
      },
      "execution_count": null,
      "outputs": []
    },
    {
      "cell_type": "code",
      "execution_count": null,
      "metadata": {
        "id": "K0ZI2Ic5KrAx"
      },
      "outputs": [],
      "source": [
        "video_comments = read.csv(\"https://csc8491.s3.amazonaws.com/girls_like_you_comments.csv\")\n",
        "head(video_comments)\n",
        "video_comments = video_comments[1:1000,]"
      ]
    },
    {
      "cell_type": "code",
      "source": [
        "# analyze sentiment\n",
        "sentiment_analysis = sentiment(video_comments$simpleText)\n",
        "# average sentiment - from -1 (worse) to 1 (better)\n",
        "mean(sentiment_analysis$sentiment)\n",
        "# make data frame\n",
        "# commnts_w_sentiment = data.frame(video_comments$simpleText,sentiment_analysis$sentiment)\n",
        "length(sentiment_analysis$sentiment)\n",
        "length(video_comments$simpleText)"
      ],
      "metadata": {
        "id": "x2bWWLx2L_Am"
      },
      "execution_count": null,
      "outputs": []
    },
    {
      "cell_type": "code",
      "source": [
        "video_comments$simpleText\n"
      ],
      "metadata": {
        "id": "V2YD_rTZMhGp"
      },
      "execution_count": null,
      "outputs": []
    }
  ]
}
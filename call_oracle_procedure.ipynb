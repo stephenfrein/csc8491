{
  "nbformat": 4,
  "nbformat_minor": 0,
  "metadata": {
    "colab": {
      "provenance": [],
      "authorship_tag": "ABX9TyNOvXxpsULtSpp02EidJLTf",
      "include_colab_link": true
    },
    "kernelspec": {
      "name": "python3",
      "display_name": "Python 3"
    },
    "language_info": {
      "name": "python"
    }
  },
  "cells": [
    {
      "cell_type": "markdown",
      "metadata": {
        "id": "view-in-github",
        "colab_type": "text"
      },
      "source": [
        "<a href=\"https://colab.research.google.com/github/stephenfrein/csc8491/blob/main/call_oracle_procedure.ipynb\" target=\"_parent\"><img src=\"https://colab.research.google.com/assets/colab-badge.svg\" alt=\"Open In Colab\"/></a>"
      ]
    },
    {
      "cell_type": "code",
      "source": [
        "# install packages needed to connect to Oracle - these are OS commands \n",
        "! wget https://yum.oracle.com/repo/OracleLinux/OL7/oracle/instantclient/x86_64/getPackage/oracle-instantclient19.3-basiclite-19.3.0.0.0-1.x86_64.rpm\n",
        "! sudo apt-get install alien libaio1\n",
        "! sudo alien -i oracle-instantclient19.3-basiclite-19.3.0.0.0-1.x86_64.rpm\n",
        "! pip install cx_Oracle"
      ],
      "metadata": {
        "id": "sJWyyYpyAIOJ"
      },
      "execution_count": null,
      "outputs": []
    },
    {
      "cell_type": "code",
      "source": [
        "# set up your personal credentials\n",
        "username = 'sfrein'\n",
        "password = ''"
      ],
      "metadata": {
        "id": "I4mRppjwSvqL"
      },
      "execution_count": 2,
      "outputs": []
    },
    {
      "cell_type": "code",
      "execution_count": null,
      "metadata": {
        "id": "XSz37qCX_2Iq"
      },
      "outputs": [],
      "source": [
        "# call the procedure from python\n",
        "\n",
        "import cx_Oracle\n",
        "# set up connection variables and make connection\n",
        "\n",
        "database = 'ora8491.cbsmegecf1qm.us-east-1.rds.amazonaws.com/orcl'\n",
        "connection = cx_Oracle.connect(username, password, database, encoding=\"UTF-8\")\n",
        "# get cursor we will use to issue commands\n",
        "cursor = connection.cursor()\n",
        "# set up variables that will supply data to procedure and take data from it\n",
        "changing_value = cursor.var(int)\n",
        "message = cursor.var(cx_Oracle.STRING)\n",
        "# initial value will be 7\n",
        "changing_value.setvalue(0,7)\n",
        "# that will be multiplied by \n",
        "multiplier = 3\n",
        "# call procedure\n",
        "cursor.callproc('ParamsDemo', [multiplier, changing_value, message])\n",
        "# show output \n",
        "print(changing_value)\n",
        "print(message)\n",
        "# clean up\n",
        "connection.close()\n",
        "\n"
      ]
    },
    {
      "cell_type": "code",
      "source": [],
      "metadata": {
        "id": "X0UUF5OnAGUm"
      },
      "execution_count": null,
      "outputs": []
    }
  ]
}
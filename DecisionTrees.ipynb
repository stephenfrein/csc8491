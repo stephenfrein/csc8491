{
  "nbformat": 4,
  "nbformat_minor": 0,
  "metadata": {
    "colab": {
      "private_outputs": true,
      "provenance": [],
      "authorship_tag": "ABX9TyPGu+BTY87JHb528MHzVtuw",
      "include_colab_link": true
    },
    "kernelspec": {
      "name": "ir",
      "display_name": "R"
    },
    "language_info": {
      "name": "R"
    }
  },
  "cells": [
    {
      "cell_type": "markdown",
      "metadata": {
        "id": "view-in-github",
        "colab_type": "text"
      },
      "source": [
        "<a href=\"https://colab.research.google.com/github/stephenfrein/csc8491/blob/main/DecisionTrees.ipynb\" target=\"_parent\"><img src=\"https://colab.research.google.com/assets/colab-badge.svg\" alt=\"Open In Colab\"/></a>"
      ]
    },
    {
      "cell_type": "code",
      "source": [
        "install.packages(\"tree\")"
      ],
      "metadata": {
        "id": "O5OskbRO33-s"
      },
      "execution_count": null,
      "outputs": []
    },
    {
      "cell_type": "code",
      "source": [
        "head(iris)"
      ],
      "metadata": {
        "id": "A2bcRWSu3ihI"
      },
      "execution_count": null,
      "outputs": []
    },
    {
      "cell_type": "code",
      "source": [
        "library(tree)\n",
        "# predict Species from all other attributes\n",
        "tree.irises = tree(Species ~ .,iris)\n",
        "summary(tree.irises)"
      ],
      "metadata": {
        "id": "3OXfJr9q3wmj"
      },
      "execution_count": null,
      "outputs": []
    },
    {
      "cell_type": "code",
      "source": [
        "# see tree structure\n",
        "tree.irises"
      ],
      "metadata": {
        "id": "aRjXdVR84pQL"
      },
      "execution_count": null,
      "outputs": []
    },
    {
      "cell_type": "code",
      "source": [
        "# draw the tree\n",
        "plot(tree.irises)\n",
        "text(tree.irises)"
      ],
      "metadata": {
        "id": "vezUzxhH5CyP"
      },
      "execution_count": null,
      "outputs": []
    },
    {
      "cell_type": "code",
      "source": [
        "#try with training and test sets\n",
        "#sample 80% rows\n",
        "samp_sz = .8\n",
        "#make random results reproducible\n",
        "set.seed(123) # any number will do\n",
        "train = sample(1:nrow(iris), samp_sz * nrow(iris))\n",
        "# test data set is other rows\n",
        "iris.train = iris[train,]\n",
        "iris.test = iris[-train,]\n",
        "# train a model on just the training data\n",
        "tree.iris.train = tree(Species ~ .,iris.train)\n",
        "#check predictions\n",
        "iris.pred = predict(tree.iris.train,iris.test,type=\"class\")\n",
        "#visually examine diffs between \"ground truth\" and predictions\n",
        "data.frame(iris.pred, iris.test$Species)"
      ],
      "metadata": {
        "id": "4RAakDV35a08"
      },
      "execution_count": null,
      "outputs": []
    },
    {
      "cell_type": "code",
      "source": [
        "#confusion matrix\n",
        "install.packages(\"caret\")\n",
        "library(caret)\n",
        "confusionMatrix(iris.pred, iris.test$Species, mode = \"prec_recall\" )"
      ],
      "metadata": {
        "id": "L2rIamL76B0o"
      },
      "execution_count": null,
      "outputs": []
    },
    {
      "cell_type": "code",
      "execution_count": null,
      "metadata": {
        "id": "flS4dXPW2w1H"
      },
      "outputs": [],
      "source": [
        "#predict a new example\n",
        "new_iris = data.frame(Petal.Length=c(2.5), Petal.Width=c(1.5), Sepal.Length=c(2.4), Sepal.Width=c(1.7))\n",
        "new_iris_pred = predict(tree.iris.train,new_iris,type=\"class\")\n",
        "new_iris_pred\n"
      ]
    }
  ]
}
{
  "nbformat": 4,
  "nbformat_minor": 0,
  "metadata": {
    "colab": {
      "private_outputs": true,
      "provenance": [],
      "authorship_tag": "ABX9TyNUOagzoH9Flu6vXCysYfi0",
      "include_colab_link": true
    },
    "kernelspec": {
      "name": "ir",
      "display_name": "R"
    },
    "language_info": {
      "name": "R"
    }
  },
  "cells": [
    {
      "cell_type": "markdown",
      "metadata": {
        "id": "view-in-github",
        "colab_type": "text"
      },
      "source": [
        "<a href=\"https://colab.research.google.com/github/stephenfrein/csc8491/blob/main/Neural_Network.ipynb\" target=\"_parent\"><img src=\"https://colab.research.google.com/assets/colab-badge.svg\" alt=\"Open In Colab\"/></a>"
      ]
    },
    {
      "cell_type": "code",
      "source": [
        "install.packages(\"caret\")\n",
        "install.packages(\"lime\")"
      ],
      "metadata": {
        "id": "yx2YJCrGQi-N"
      },
      "execution_count": null,
      "outputs": []
    },
    {
      "cell_type": "code",
      "execution_count": null,
      "metadata": {
        "id": "0D3xs93iL5xe"
      },
      "outputs": [],
      "source": [
        "# read in data and examine structure\n",
        "concrete_raw = read.csv(\"https://csc8491.s3.amazonaws.com/concrete.csv\")\n",
        "str(concrete_raw)\n",
        "head(concrete_raw)\n",
        "summary(concrete_raw)"
      ]
    },
    {
      "cell_type": "code",
      "source": [
        "# apply normalization to entire data frame\n",
        "# NN will work best when data normalized in range\n",
        "# custom normalization function\n",
        "normalize <- function(x) {\n",
        "  return((x - min(x)) / (max(x) - min(x)))\n",
        "}\n",
        "\n",
        "# lappply is \"list apply\" - applies function to all of the columns - remember a df is a list of vectors\n",
        "concrete_norm <- as.data.frame(lapply(concrete, normalize))\n",
        "# confirm that the range is now between zero and one\n",
        "summary(concrete$strength)\n",
        "summary(concrete_norm$strength)"
      ],
      "metadata": {
        "id": "ucm2CoeFNLLT"
      },
      "execution_count": null,
      "outputs": []
    },
    {
      "cell_type": "code",
      "source": [
        "# create training and test data\n",
        "train_pct <- 0.75\n",
        "set.seed(123)\n",
        "train <- sample(1:nrow(concrete_norm),train_pct * nrow(concrete_norm))\n",
        "concrete_train <- concrete_norm[train, ]\n",
        "concrete_test <- concrete_norm[-train, ]"
      ],
      "metadata": {
        "id": "YjNmAyTyNqJV"
      },
      "execution_count": null,
      "outputs": []
    },
    {
      "cell_type": "code",
      "source": [
        "install.packages(\"neuralnet\")\n",
        "library(neuralnet)\n",
        "# simple ANN with only a single hidden neuron\n",
        "net <- neuralnet(strength~.,concrete_train,hidden=1)\n",
        "plot(net, rep=\"best\") # the rep argument is needed here for plot to render in Colab\n",
        "\n"
      ],
      "metadata": {
        "id": "B9etO8yANusI"
      },
      "execution_count": null,
      "outputs": []
    },
    {
      "cell_type": "code",
      "source": [
        "# obtain model results\n",
        "net_results <- compute(net, concrete_test[,1:8])\n",
        "# obtain predicted strength values\n",
        "predicted_strength <- net_results$net.result\n",
        "# examine the correlation between predicted and actual values\n",
        "cor(predicted_strength, concrete_test$strength)"
      ],
      "metadata": {
        "id": "sXPuHOv_OBTV"
      },
      "execution_count": null,
      "outputs": []
    },
    {
      "cell_type": "code",
      "source": [
        "# a more complex neural network topology with 5 hidden neurons\n",
        "net2 <- neuralnet(strength~.,concrete_train,hidden=5)\n",
        "plot(net2, rep=\"best\")\n",
        "\n",
        "\n"
      ],
      "metadata": {
        "id": "Lu_iwkMYPI58"
      },
      "execution_count": null,
      "outputs": []
    },
    {
      "cell_type": "code",
      "source": [
        "# obtain model results\n",
        "net_results2 <- compute(net2, concrete_test[,1:8])\n",
        "# obtain predicted strength values\n",
        "predicted_strength2 <- net_results2$net.result\n",
        "# examine the correlation between predicted and actual values\n",
        "cor(predicted_strength2, concrete_test$strength)"
      ],
      "metadata": {
        "id": "wHWl4ek_Pcb0"
      },
      "execution_count": null,
      "outputs": []
    },
    {
      "cell_type": "code",
      "source": [
        "print(\"Linear model: \")\n",
        "lm.fit = lm(strength~.,concrete_train)\n",
        "summary(lm.fit)\n",
        "lm_preds = predict(lm.fit,concrete_test[,1:8])\n",
        "cor(lm_preds, concrete_test$strength)\n",
        "\n",
        "print(\"Tree model: \")\n",
        "install.packages(\"tree\")\n",
        "library(tree)\n",
        "tree.fit = tree(strength~.,concrete_train)\n",
        "summary(tree.fit)\n",
        "plot(tree.fit)\n",
        "text(tree.fit,pretty=0)\n",
        "tree_preds = predict(lm.fit,concrete_test[,1:8])\n",
        "cor(tree_preds, concrete_test$strength)\n",
        "\n",
        "print(\"Random forest: \")\n",
        "install.packages(\"randomForest\")\n",
        "library(randomForest)\n",
        "rf=randomForest(strength~.,data=concrete_train,importance=TRUE)\n",
        "rf\n",
        "importance(rf)\n",
        "rf_preds = predict(rf,concrete_test[,1:8])\n",
        "cor(rf_preds, concrete_test$strength)\n"
      ],
      "metadata": {
        "id": "TEJc0eDJPmO8"
      },
      "execution_count": null,
      "outputs": []
    },
    {
      "cell_type": "code",
      "source": [
        "# tuning with grid search\n",
        "library(caret)\n",
        "#decay fights overfitting\n",
        "my.grid <- expand.grid(.decay = c(0.01, 0.001, 0.0001), .size = c(8, 10, 12))\n",
        "my.grid\n",
        "caret.net.fit <- train(strength~., data = concrete_train,\n",
        "                       method = \"nnet\", maxit = 1000, tuneGrid = my.grid,\n",
        "                       trace = FALSE)\n",
        "caret.net.fit\n",
        "caret.net.predict <- predict(caret.net.fit, newdata = concrete_test[,1:8])\n",
        "cor(caret.net.predict, concrete_test$strength)"
      ],
      "metadata": {
        "id": "O-eSAGSiQwvI"
      },
      "execution_count": null,
      "outputs": []
    },
    {
      "cell_type": "code",
      "source": [
        "install.packages('lime')\n",
        "library(lime)\n",
        "explainer <- lime(concrete_train, caret.net.fit)\n",
        "# show what’s happening with first 10 examples in training set\n",
        "# limit to 5 most significant features for each example\n",
        "explanation <- explain(concrete_test[1:10,], explainer, n_features = 5)\n",
        "plot_features(explanation)\n"
      ],
      "metadata": {
        "id": "EtYGkvcLRGCH"
      },
      "execution_count": null,
      "outputs": []
    }
  ]
}
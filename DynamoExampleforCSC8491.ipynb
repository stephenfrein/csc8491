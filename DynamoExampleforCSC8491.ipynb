{
  "nbformat": 4,
  "nbformat_minor": 0,
  "metadata": {
    "colab": {
      "name": "DynamoExampleforCSC8491.ipynb",
      "private_outputs": true,
      "provenance": [],
      "collapsed_sections": [],
      "authorship_tag": "ABX9TyNZuQjjq5VBCQUBuzXxv2NT",
      "include_colab_link": true
    },
    "kernelspec": {
      "name": "python3",
      "display_name": "Python 3"
    }
  },
  "cells": [
    {
      "cell_type": "markdown",
      "metadata": {
        "id": "view-in-github",
        "colab_type": "text"
      },
      "source": [
        "<a href=\"https://colab.research.google.com/github/stephenfrein/csc8491/blob/main/DynamoExampleforCSC8491.ipynb\" target=\"_parent\"><img src=\"https://colab.research.google.com/assets/colab-badge.svg\" alt=\"Open In Colab\"/></a>"
      ]
    },
    {
      "cell_type": "code",
      "metadata": {
        "id": "J-T_O9-RSDgo"
      },
      "source": [
        "!pip install boto3"
      ],
      "execution_count": null,
      "outputs": []
    },
    {
      "cell_type": "code",
      "metadata": {
        "id": "-eJBsXKksnfp"
      },
      "source": [
        "# these are my credentials - you'll need your own in the future \r\n",
        "!mkdir /root/.aws\r\n",
        "!touch /root/.aws/credentials\r\n",
        "# put the secret line from Blackboard in here\r\n",
        "!cat ~/.aws/credentials\r\n"
      ],
      "execution_count": null,
      "outputs": []
    },
    {
      "cell_type": "code",
      "metadata": {
        "id": "uDtVDysBSXY-"
      },
      "source": [
        "import boto3\r\n",
        "from boto3.dynamodb.conditions import Key\r\n",
        "\r\n",
        "dynamodb = boto3.resource('dynamodb', region_name='us-east-2')"
      ],
      "execution_count": null,
      "outputs": []
    },
    {
      "cell_type": "code",
      "metadata": {
        "id": "FHvEys3yt0Qe"
      },
      "source": [
        "# set your table name\r\n",
        "table_name = 'sfrein01_sessions' #something like <your_villanova_username>_sessions - I'll use sfrein01_sessions for mine\r\n",
        "\r\n",
        "table = dynamodb.create_table(\r\n",
        "    TableName=table_name,\r\n",
        "    KeySchema=[\r\n",
        "        {\r\n",
        "            'AttributeName': 'session_id',\r\n",
        "            'KeyType': 'HASH'\r\n",
        "        }\r\n",
        "    ],\r\n",
        "    AttributeDefinitions=[\r\n",
        "        {\r\n",
        "            'AttributeName': 'session_id',\r\n",
        "            'AttributeType': 'S'\r\n",
        "        }\r\n",
        "    ],\r\n",
        "    ProvisionedThroughput={\r\n",
        "        # of reads and writes per second until throttling exception returned\r\n",
        "        'ReadCapacityUnits': 5,\r\n",
        "        'WriteCapacityUnits': 5\r\n",
        "    }\r\n",
        ")\r\n",
        "\r\n",
        "# wait for table to exist\r\n",
        "table.meta.client.get_waiter('table_exists').wait(TableName=table_name)\r\n",
        "\r\n",
        "# how many rows are in it? remember no data yet\r\n",
        "print(table.item_count)"
      ],
      "execution_count": null,
      "outputs": []
    },
    {
      "cell_type": "code",
      "metadata": {
        "id": "IFCeyjBS0Djb"
      },
      "source": [
        "new_item = table.put_item(\r\n",
        "  Item={\r\n",
        "        'session_id': 'ABC123XYZ',\r\n",
        "        'start_date': '02/18/2021 20:00:00',\r\n",
        "        'details': {\r\n",
        "                'length_minutes': 60,\r\n",
        "                'role': 'ADMIN'\r\n",
        "          }\r\n",
        "    }\r\n",
        ")\r\n",
        "print(new_item)"
      ],
      "execution_count": null,
      "outputs": []
    },
    {
      "cell_type": "code",
      "metadata": {
        "id": "yhFB6KOZ5gTM"
      },
      "source": [
        "newer_item = table.put_item(\r\n",
        "  Item={\r\n",
        "        'session_id': 'DEF321ZYX',\r\n",
        "        'start_date': '02/18/2021 21:00:00',\r\n",
        "        'details': {\r\n",
        "                'length_minutes': 30,\r\n",
        "                'role': 'USER'\r\n",
        "          }\r\n",
        "    }\r\n",
        ")\r\n",
        "print(newer_item)"
      ],
      "execution_count": null,
      "outputs": []
    },
    {
      "cell_type": "code",
      "metadata": {
        "id": "0LWqm_Ux13wz"
      },
      "source": [
        "found_session = table.get_item(Key={'session_id': 'ABC123XYZ'})\r\n",
        "print(list(found_session.values())[0])"
      ],
      "execution_count": null,
      "outputs": []
    },
    {
      "cell_type": "code",
      "metadata": {
        "id": "1szl1KRze2IQ"
      },
      "source": [
        "found_session = table.get_item(Key={'start_date': '02/18/2021 20:00:00'})\r\n",
        "print(list(found_session.values())[0])"
      ],
      "execution_count": null,
      "outputs": []
    },
    {
      "cell_type": "code",
      "metadata": {
        "id": "czOQuaSs8H8_"
      },
      "source": [
        "client = boto3.client('dynamodb', region_name='us-east-2')\r\n",
        "\r\n",
        "response = client.update_table(\r\n",
        "    TableName = table_name,\r\n",
        "    AttributeDefinitions=[\r\n",
        "            {\r\n",
        "                \"AttributeName\": \"start_date\",\r\n",
        "                \"AttributeType\": \"S\"\r\n",
        "            },\r\n",
        "        ],\r\n",
        "    GlobalSecondaryIndexUpdates=[\r\n",
        "        {\r\n",
        "            'Create': {\r\n",
        "                'IndexName': 'StartDateIndex',\r\n",
        "                'KeySchema': [\r\n",
        "                    {\r\n",
        "                        'AttributeName': 'start_date',\r\n",
        "                        'KeyType': 'HASH'\r\n",
        "                    }\r\n",
        "                ],\r\n",
        "                'Projection': {\r\n",
        "                    'ProjectionType': 'ALL'\r\n",
        "                },\r\n",
        "                'ProvisionedThroughput': {\r\n",
        "                    'ReadCapacityUnits': 1,\r\n",
        "                    'WriteCapacityUnits': 1\r\n",
        "                }\r\n",
        "            }\r\n",
        "        }\r\n",
        "    ]\r\n",
        ")\r\n",
        "print(response)"
      ],
      "execution_count": null,
      "outputs": []
    },
    {
      "cell_type": "code",
      "metadata": {
        "id": "oL5MfJ7Fd1-E"
      },
      "source": [
        "from boto3.dynamodb.conditions import Key\r\n",
        "table = dynamodb.Table(table_name)\r\n",
        "\r\n",
        "# When adding a global secondary index to an existing table, you cannot query the index until it has been backfilled.\r\n",
        "# This portion of the script waits until the index is in the “ACTIVE” status, indicating it is ready to be queried.\r\n",
        "while True:\r\n",
        "    if not table.global_secondary_indexes or table.global_secondary_indexes[0]['IndexStatus'] != 'ACTIVE':\r\n",
        "        print('Waiting for index to backfill...')\r\n",
        "        time.sleep(5)\r\n",
        "        table.reload()\r\n",
        "    else:\r\n",
        "        break\r\n",
        "\r\n",
        "# When making a Query call, you use the KeyConditionExpression parameter to specify the hash key on which you want to query.\r\n",
        "# If you want to use a specific index, you also need to pass the IndexName in our API call.\r\n",
        "resp = table.query(\r\n",
        "    # Add the name of the index you want to use in your query.\r\n",
        "    IndexName=\"StartDateIndex\",\r\n",
        "    KeyConditionExpression=Key('start_date').eq('02/18/2021 20:00:00'),\r\n",
        ")\r\n",
        "\r\n",
        "print(resp)"
      ],
      "execution_count": null,
      "outputs": []
    },
    {
      "cell_type": "code",
      "metadata": {
        "id": "gWdyAanRTuCW"
      },
      "source": [
        "dynamodb.Table(table_name).delete()"
      ],
      "execution_count": null,
      "outputs": []
    }
  ]
}
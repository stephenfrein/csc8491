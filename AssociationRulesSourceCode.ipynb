{
  "nbformat": 4,
  "nbformat_minor": 0,
  "metadata": {
    "colab": {
      "private_outputs": true,
      "provenance": [],
      "authorship_tag": "ABX9TyM5TbFMhqbHtW4Bfm2V/leU",
      "include_colab_link": true
    },
    "kernelspec": {
      "name": "ir",
      "display_name": "R"
    },
    "language_info": {
      "name": "R"
    }
  },
  "cells": [
    {
      "cell_type": "markdown",
      "metadata": {
        "id": "view-in-github",
        "colab_type": "text"
      },
      "source": [
        "<a href=\"https://colab.research.google.com/github/stephenfrein/csc8491/blob/main/AssociationRulesSourceCode.ipynb\" target=\"_parent\"><img src=\"https://colab.research.google.com/assets/colab-badge.svg\" alt=\"Open In Colab\"/></a>"
      ]
    },
    {
      "cell_type": "code",
      "execution_count": null,
      "metadata": {
        "id": "xslr4Gj9Gudz"
      },
      "outputs": [],
      "source": [
        "# install special packages - comment these lines out after first install\n",
        "install.packages(\"tidyr\")\n",
        "\n",
        "# load packages for use\n",
        "library(tidyr)\n"
      ]
    },
    {
      "cell_type": "code",
      "source": [
        "# get the file from the web\n",
        "URL <- \"https://csc8491.s3.us-east-1.amazonaws.com/Tomcat.csv\"\n",
        "rawdata <- read.csv(URL, stringsAsFactors=FALSE)"
      ],
      "metadata": {
        "id": "Ls05uS8ZG7fX"
      },
      "execution_count": null,
      "outputs": []
    },
    {
      "cell_type": "code",
      "source": [
        "# visually inspect the raw data\n",
        "head(rawdata)"
      ],
      "metadata": {
        "id": "FeFt00H-G7cp"
      },
      "execution_count": null,
      "outputs": []
    },
    {
      "cell_type": "code",
      "source": [
        "# strip the data down to a few useful columns\n",
        "readydata <- rawdata[,c(2,3,10)]\n",
        "\n",
        "# visually inspect the changed data\n",
        "head(readydata)"
      ],
      "metadata": {
        "id": "LNkHv_etG7Zu"
      },
      "execution_count": null,
      "outputs": []
    },
    {
      "cell_type": "code",
      "source": [
        "# the files column has many files in a single column\n",
        "# turn it into multiple columns\n",
        "# don't worry about warning message about \"missing pieces\"\n",
        "# we are making space for up to 100 files per bug\n",
        "# most have far fewer files than that\n",
        "readydata <- readydata %>% separate(files, paste('V', 1:100), sep = \" \")\n",
        "head(readydata)"
      ],
      "metadata": {
        "id": "rqiVw5TiG7Ww"
      },
      "execution_count": null,
      "outputs": []
    },
    {
      "cell_type": "code",
      "source": [
        "# now drop columns that aren't files\n",
        "readydata <- readydata[,-c(1:2)]\n",
        "\n",
        "# visually inspect the changed data\n",
        "head(readydata)"
      ],
      "metadata": {
        "id": "OYLbV4CgG7Tu"
      },
      "execution_count": null,
      "outputs": []
    },
    {
      "cell_type": "code",
      "source": [
        "# convert the rest into a format that can be read by arules package\n",
        "newtemp <- tempfile(fileext = \".csv\")\n",
        "write.csv(readydata,file = newtemp)"
      ],
      "metadata": {
        "id": "p0hTRHn5G7Qu"
      },
      "execution_count": null,
      "outputs": []
    },
    {
      "cell_type": "code",
      "source": [
        "# install association rules package\n",
        "# comment below line out after first install\n",
        "install.packages(\"arules\")\n",
        "library(arules)"
      ],
      "metadata": {
        "id": "9qPLd0RKG7No"
      },
      "execution_count": null,
      "outputs": []
    },
    {
      "cell_type": "code",
      "source": [
        "# read transactions - skip the first line of header info\n",
        "checkins <- read.transactions(newtemp, sep = \",\", skip = 1)\n",
        "summary(checkins)\n",
        "\n",
        "# look at the first five check-ins\n",
        "inspect(checkins[1:5])"
      ],
      "metadata": {
        "id": "BESPQckRG7Ku"
      },
      "execution_count": null,
      "outputs": []
    },
    {
      "cell_type": "code",
      "source": [
        "# plot the frequency of items\n",
        "itemFrequencyPlot(checkins, topN = 20)"
      ],
      "metadata": {
        "id": "Wt3c87LCG7Hw"
      },
      "execution_count": null,
      "outputs": []
    },
    {
      "cell_type": "code",
      "source": [
        "# training a model on the data\n",
        "# default settings result in zero rules learned\n",
        "apriori(checkins)"
      ],
      "metadata": {
        "id": "0x06reVhG7Ev"
      },
      "execution_count": null,
      "outputs": []
    },
    {
      "cell_type": "code",
      "source": [
        "# set support and confidence levels\n",
        "filerules <- apriori(checkins, parameter = list(\n",
        "  support = 0.005, confidence = 0.50))\n",
        "\n",
        "# look at the first three rules\n",
        "inspect(filerules[1:3])"
      ],
      "metadata": {
        "id": "ZaxjYHH5G7Bo"
      },
      "execution_count": null,
      "outputs": []
    },
    {
      "cell_type": "code",
      "source": [
        "# sorting rules by lift\n",
        "inspect(sort(filerules, by = \"lift\")[1:5])"
      ],
      "metadata": {
        "id": "OKv9PqjtG6-r"
      },
      "execution_count": null,
      "outputs": []
    },
    {
      "cell_type": "code",
      "source": [
        "# finding subsets of rules containing specific items\n",
        "some_file_rules <- subset(filerules, items %in%\n",
        "                    \"java/org/apache/coyote/http11/Http11Processor.java\")\n",
        "inspect(some_file_rules)"
      ],
      "metadata": {
        "id": "TfdSGe6eG67m"
      },
      "execution_count": null,
      "outputs": []
    }
  ]
}
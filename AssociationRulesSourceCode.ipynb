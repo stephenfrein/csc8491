{
  "nbformat": 4,
  "nbformat_minor": 0,
  "metadata": {
    "colab": {
      "provenance": [],
      "authorship_tag": "ABX9TyPlao+5DALEhKlk5zeoVQqG",
      "include_colab_link": true
    },
    "kernelspec": {
      "name": "python3",
      "display_name": "Python 3"
    },
    "language_info": {
      "name": "python"
    }
  },
  "cells": [
    {
      "cell_type": "markdown",
      "metadata": {
        "id": "view-in-github",
        "colab_type": "text"
      },
      "source": [
        "<a href=\"https://colab.research.google.com/github/stephenfrein/csc8491/blob/main/AssociationRulesSourceCode.ipynb\" target=\"_parent\"><img src=\"https://colab.research.google.com/assets/colab-badge.svg\" alt=\"Open In Colab\"/></a>"
      ]
    },
    {
      "cell_type": "code",
      "execution_count": null,
      "metadata": {
        "id": "xslr4Gj9Gudz"
      },
      "outputs": [],
      "source": [
        "# install special packages - comment these lines out after first install\n",
        "install.packages(\"tidyr\")\n",
        "install.packages(\"xlsx\")\n",
        "\n",
        "# load packages for use\n",
        "library(tidyr)\n",
        "library(xlsx)"
      ]
    },
    {
      "cell_type": "code",
      "source": [
        "# get the file from the web\n",
        "URL <- \"https://zenodo.org/records/268481/files/Tomcat.xlsx?download=1\"\n",
        "tmp <- tempfile(fileext = \".xlsx\")\n",
        "download.file(url = URL, destfile = tmp, mode = \"wb\")"
      ],
      "metadata": {
        "id": "Ls05uS8ZG7fX"
      },
      "execution_count": null,
      "outputs": []
    },
    {
      "cell_type": "code",
      "source": [
        "# pull file contents into a data frame (table)\n",
        "rawdata <- read.xlsx(tmp, sheetName=\"tomcat\", stringsAsFactors=FALSE)\n",
        "\n",
        "# visually inspect the raw data\n",
        "View(rawdata)"
      ],
      "metadata": {
        "id": "FeFt00H-G7cp"
      },
      "execution_count": null,
      "outputs": []
    },
    {
      "cell_type": "code",
      "source": [
        "# strip the data down to a few useful columns\n",
        "readydata <- rawdata[,c(2,3,10)]\n",
        "\n",
        "# visually inspect the changed data\n",
        "View(readydata)"
      ],
      "metadata": {
        "id": "LNkHv_etG7Zu"
      },
      "execution_count": null,
      "outputs": []
    },
    {
      "cell_type": "code",
      "source": [
        "# the files column has many files in a single column\n",
        "# turn it into multiple columns\n",
        "# don't worry about warning message that says \"too few values\"\n",
        "# we are making space for up to 100 files per bug\n",
        "# most have far fewer files than that\n",
        "readydata <- readydata %>% separate(files, paste('V', 1:100), sep = \" \")"
      ],
      "metadata": {
        "id": "rqiVw5TiG7Ww"
      },
      "execution_count": null,
      "outputs": []
    },
    {
      "cell_type": "code",
      "source": [
        "# now drop columns that aren't files\n",
        "readydata <- readydata[,-c(1:2)]\n",
        "\n",
        "# visually inspect the changed data\n",
        "View(readydata)"
      ],
      "metadata": {
        "id": "OYLbV4CgG7Tu"
      },
      "execution_count": null,
      "outputs": []
    },
    {
      "cell_type": "code",
      "source": [
        "# convert the rest into a format that can be read by arules package\n",
        "newtemp <- tempfile(fileext = \".csv\")\n",
        "write.csv(readydata,file = newtemp)"
      ],
      "metadata": {
        "id": "p0hTRHn5G7Qu"
      },
      "execution_count": null,
      "outputs": []
    },
    {
      "cell_type": "code",
      "source": [
        "# install association rules package\n",
        "# comment below line out after first install\n",
        "install.packages(\"arules\")\n",
        "library(arules)"
      ],
      "metadata": {
        "id": "9qPLd0RKG7No"
      },
      "execution_count": null,
      "outputs": []
    },
    {
      "cell_type": "code",
      "source": [
        "# read transactions - skip the first line of header info\n",
        "checkins <- read.transactions(newtemp, sep = \",\", skip = 1)\n",
        "summary(checkins)\n",
        "\n",
        "# look at the first five check-ins\n",
        "inspect(checkins[1:5])"
      ],
      "metadata": {
        "id": "BESPQckRG7Ku"
      },
      "execution_count": null,
      "outputs": []
    },
    {
      "cell_type": "code",
      "source": [
        "# plot the frequency of items\n",
        "windows()\n",
        "itemFrequencyPlot(checkins, topN = 20)"
      ],
      "metadata": {
        "id": "Wt3c87LCG7Hw"
      },
      "execution_count": null,
      "outputs": []
    },
    {
      "cell_type": "code",
      "source": [
        "# training a model on the data\n",
        "# default settings result in zero rules learned\n",
        "apriori(checkins)"
      ],
      "metadata": {
        "id": "0x06reVhG7Ev"
      },
      "execution_count": null,
      "outputs": []
    },
    {
      "cell_type": "code",
      "source": [
        "# set support and confidence levels\n",
        "filerules <- apriori(checkins, parameter = list(\n",
        "  support = 0.005, confidence = 0.50))\n",
        "\n",
        "# look at the first three rules\n",
        "inspect(filerules[1:3])"
      ],
      "metadata": {
        "id": "ZaxjYHH5G7Bo"
      },
      "execution_count": null,
      "outputs": []
    },
    {
      "cell_type": "code",
      "source": [
        "# sorting rules by lift\n",
        "inspect(sort(filerules, by = \"lift\")[1:5])"
      ],
      "metadata": {
        "id": "OKv9PqjtG6-r"
      },
      "execution_count": null,
      "outputs": []
    },
    {
      "cell_type": "code",
      "source": [
        "# finding subsets of rules containing specific items\n",
        "some_file_rules <- subset(filerules, items %in%\n",
        "                    \"java/org/apache/coyote/http11/Http11Processor.java\")\n",
        "inspect(some_file_rules)"
      ],
      "metadata": {
        "id": "TfdSGe6eG67m"
      },
      "execution_count": null,
      "outputs": []
    },
    {
      "cell_type": "code",
      "source": [
        "# writing the rules to a CSV file\n",
        "write(filerules, file = \"filerules.csv\",\n",
        "      sep = \",\", quote = TRUE, row.names = FALSE)"
      ],
      "metadata": {
        "id": "472UwtDqG64Z"
      },
      "execution_count": null,
      "outputs": []
    },
    {
      "cell_type": "code",
      "source": [],
      "metadata": {
        "id": "8k7j2za6G61P"
      },
      "execution_count": null,
      "outputs": []
    },
    {
      "cell_type": "code",
      "source": [],
      "metadata": {
        "id": "mYJYDswkG6x4"
      },
      "execution_count": null,
      "outputs": []
    },
    {
      "cell_type": "code",
      "source": [],
      "metadata": {
        "id": "nwDKjiy9G6u4"
      },
      "execution_count": null,
      "outputs": []
    },
    {
      "cell_type": "code",
      "source": [],
      "metadata": {
        "id": "UT_4xh68G6rx"
      },
      "execution_count": null,
      "outputs": []
    },
    {
      "cell_type": "code",
      "source": [],
      "metadata": {
        "id": "WF2VtifIG6ov"
      },
      "execution_count": null,
      "outputs": []
    },
    {
      "cell_type": "code",
      "source": [],
      "metadata": {
        "id": "rVHXCreuG6lm"
      },
      "execution_count": null,
      "outputs": []
    },
    {
      "cell_type": "code",
      "source": [],
      "metadata": {
        "id": "wpEc0I-eG6iG"
      },
      "execution_count": null,
      "outputs": []
    },
    {
      "cell_type": "code",
      "source": [],
      "metadata": {
        "id": "90IJ0yo3G6db"
      },
      "execution_count": null,
      "outputs": []
    },
    {
      "cell_type": "code",
      "source": [],
      "metadata": {
        "id": "z5D25MVXG6Z4"
      },
      "execution_count": null,
      "outputs": []
    },
    {
      "cell_type": "code",
      "source": [],
      "metadata": {
        "id": "Rk3Do9AAG6RU"
      },
      "execution_count": null,
      "outputs": []
    },
    {
      "cell_type": "code",
      "source": [],
      "metadata": {
        "id": "PZy2WXMsG6B6"
      },
      "execution_count": null,
      "outputs": []
    },
    {
      "cell_type": "code",
      "source": [],
      "metadata": {
        "id": "_-MEqhK4G5u6"
      },
      "execution_count": null,
      "outputs": []
    }
  ]
}
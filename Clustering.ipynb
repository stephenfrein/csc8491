{
  "nbformat": 4,
  "nbformat_minor": 0,
  "metadata": {
    "colab": {
      "private_outputs": true,
      "provenance": [],
      "authorship_tag": "ABX9TyMG1+WQ/x73qRkqgQF5gGtF",
      "include_colab_link": true
    },
    "kernelspec": {
      "name": "ir",
      "display_name": "R"
    },
    "language_info": {
      "name": "R"
    }
  },
  "cells": [
    {
      "cell_type": "markdown",
      "metadata": {
        "id": "view-in-github",
        "colab_type": "text"
      },
      "source": [
        "<a href=\"https://colab.research.google.com/github/stephenfrein/csc8491/blob/main/Clustering.ipynb\" target=\"_parent\"><img src=\"https://colab.research.google.com/assets/colab-badge.svg\" alt=\"Open In Colab\"/></a>"
      ]
    },
    {
      "cell_type": "code",
      "source": [
        "# takes forever - do now\n",
        "install.packages(\"NbClust\")\n",
        "install.packages(\"factoextra\")"
      ],
      "metadata": {
        "id": "iLlM5JtVHIc5"
      },
      "execution_count": null,
      "outputs": []
    },
    {
      "cell_type": "code",
      "source": [
        "##### Clustering with k-means -------------------\n",
        "head(iris)\n",
        "# split species apart from rest of data\n",
        "x = iris[,-5]\n",
        "y = iris$Species\n",
        "head(x)"
      ],
      "metadata": {
        "id": "T1blGCPsFSm5"
      },
      "execution_count": null,
      "outputs": []
    },
    {
      "cell_type": "code",
      "source": [
        "normalize <- function(x) {\n",
        "  return((x - min(x)) / (max(x) - min(x)))\n",
        "}\n",
        "# put data on same scale\n",
        "x <- as.data.frame(lapply(x, normalize))"
      ],
      "metadata": {
        "id": "7jyex-hxFdX3"
      },
      "execution_count": null,
      "outputs": []
    },
    {
      "cell_type": "code",
      "source": [
        "# set this seed for colors to work out the same\n",
        "set.seed(123)\n",
        "# we know there are 3 types of irises\n",
        "kc <- kmeans(x,3)\n",
        "kc"
      ],
      "metadata": {
        "id": "gEpsSapQFlNX"
      },
      "execution_count": null,
      "outputs": []
    },
    {
      "cell_type": "code",
      "source": [
        "#compare clusters to reality\n",
        "table(y,kc$cluster)"
      ],
      "metadata": {
        "id": "DVlJCrWfFqAW"
      },
      "execution_count": null,
      "outputs": []
    },
    {
      "cell_type": "code",
      "execution_count": null,
      "metadata": {
        "id": "JMrxuwMkEfBP"
      },
      "outputs": [],
      "source": [
        "#plot clusters - only using two attributes for simplicity\n",
        "plot(x[c(\"Sepal.Length\", \"Sepal.Width\")], col=kc$cluster)\n",
        "# plot centroids\n",
        "points(kc$centers[,c(\"Sepal.Length\", \"Sepal.Width\")], col=1:3, pch=23, cex=3)\n",
        "# now show actual classes of those points\n",
        "points(x[c(\"Sepal.Length\", \"Sepal.Width\")], col=iris$Species, pch=\"O\", cex=3)"
      ]
    },
    {
      "cell_type": "code",
      "source": [
        "install.packages(\"NbClust\")\n",
        "install.packages(\"factoextra\")"
      ],
      "metadata": {
        "id": "YGb2J8PWGJvK"
      },
      "execution_count": null,
      "outputs": []
    },
    {
      "cell_type": "markdown",
      "source": [
        "Back to Slide 18"
      ],
      "metadata": {
        "id": "WPL_ey3fMOXx"
      }
    },
    {
      "cell_type": "code",
      "source": [
        "# how to know the number of clusters?\n",
        "library(NbClust)\n",
        "library(factoextra)\n",
        "fviz_nbclust(x, kmeans, method = \"wss\") + labs(subtitle = \"Elbow method\")\n"
      ],
      "metadata": {
        "id": "jfLm6SgXGIez"
      },
      "execution_count": null,
      "outputs": []
    },
    {
      "cell_type": "markdown",
      "source": [
        "Back to Slide 19"
      ],
      "metadata": {
        "id": "CF3EtbarMbyg"
      }
    },
    {
      "cell_type": "code",
      "source": [
        "# create hierarchical cluster\n",
        "# dist() creates distance matrix measurements\n",
        "h_cluster <- hclust(dist(x))\n",
        "plot(h_cluster)\n",
        "# show where the clusters would be if you limit to k\n",
        "# border arg gives vector of potential different colors\n",
        "rect.hclust(h_cluster, k=3, border=c(1:10))"
      ],
      "metadata": {
        "id": "aN3WYfy7Hex2"
      },
      "execution_count": null,
      "outputs": []
    },
    {
      "cell_type": "code",
      "source": [
        "# cut it off at a certain number of clusters (3)\n",
        "cut_version = cutree(h_cluster, k=3)\n",
        "# compare to labels (just for an idea of what it's doing)\n",
        "table(cut_version,iris$Species)"
      ],
      "metadata": {
        "id": "aZ1Xr0njHoaO"
      },
      "execution_count": null,
      "outputs": []
    },
    {
      "cell_type": "code",
      "source": [
        "\n",
        "\n"
      ],
      "metadata": {
        "id": "Xgt41QNoHai5"
      },
      "execution_count": null,
      "outputs": []
    }
  ]
}
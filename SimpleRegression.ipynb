{
  "nbformat": 4,
  "nbformat_minor": 0,
  "metadata": {
    "colab": {
      "provenance": [],
      "private_outputs": true,
      "authorship_tag": "ABX9TyN0GyPVhoCsDcK30FMHGPOf",
      "include_colab_link": true
    },
    "kernelspec": {
      "name": "ir",
      "display_name": "R"
    },
    "language_info": {
      "name": "R"
    }
  },
  "cells": [
    {
      "cell_type": "markdown",
      "metadata": {
        "id": "view-in-github",
        "colab_type": "text"
      },
      "source": [
        "<a href=\"https://colab.research.google.com/github/stephenfrein/csc8491/blob/main/SimpleRegression.ipynb\" target=\"_parent\"><img src=\"https://colab.research.google.com/assets/colab-badge.svg\" alt=\"Open In Colab\"/></a>"
      ]
    },
    {
      "cell_type": "code",
      "source": [
        "install.packages(\"calibrate\")"
      ],
      "metadata": {
        "id": "EW5PMImGDRq2"
      },
      "execution_count": null,
      "outputs": []
    },
    {
      "cell_type": "code",
      "source": [
        "library(calibrate)\n",
        "# vector of normally distributed random values around mean 20\n",
        "x = rnorm(50, mean=20, sd=3)\n",
        "print('contents of x')\n",
        "x\n",
        "#real f           #error term with mean 0\n",
        "y = (2 * x + 3) + rnorm(50, sd=3)\n",
        "print('contents of y')\n",
        "y"
      ],
      "metadata": {
        "id": "NrEs4lcJD3Cf"
      },
      "execution_count": null,
      "outputs": []
    },
    {
      "cell_type": "code",
      "source": [
        "hist(x)"
      ],
      "metadata": {
        "id": "BIH6O37FD5o1"
      },
      "execution_count": null,
      "outputs": []
    },
    {
      "cell_type": "code",
      "source": [
        "hist(y)"
      ],
      "metadata": {
        "id": "WQ2ktXM6D7VN"
      },
      "execution_count": null,
      "outputs": []
    },
    {
      "cell_type": "code",
      "source": [
        "#convert to data frame - could be one step\n",
        "mydat = data.frame(x,y)\n",
        "View(mydat)"
      ],
      "metadata": {
        "id": "9oze81rVEY3a"
      },
      "execution_count": null,
      "outputs": []
    },
    {
      "cell_type": "code",
      "source": [
        "#linear regression – predict y using x\n",
        "lm.fit = lm(data = mydat,formula = y ~ x)\n",
        "summary(lm.fit)"
      ],
      "metadata": {
        "id": "LFeVcWveEjPf"
      },
      "execution_count": null,
      "outputs": []
    },
    {
      "cell_type": "code",
      "source": [
        "#plot it\n",
        "plot(x,y)\n",
        "abline(lm.fit)\n",
        "# extract coefficients\n",
        "lm_coef <- round(coef(lm.fit), 3)\n",
        "mtext(bquote(y == .(lm_coef[2])*x + .(lm_coef[1])),\n",
        "      adj=1, padj=0) # display equation"
      ],
      "metadata": {
        "id": "FESI2W_SEpjJ"
      },
      "execution_count": null,
      "outputs": []
    },
    {
      "cell_type": "code",
      "execution_count": null,
      "metadata": {
        "id": "0eB_VCtkC9et"
      },
      "outputs": [],
      "source": [
        "#plot it\n",
        "plot(x,y)\n",
        "abline(lm.fit)\n",
        "# extract coefficients\n",
        "lm_coef <- round(coef(lm.fit), 3)\n",
        "mtext(bquote(y == .(lm_coef[2])*x + .(lm_coef[1])),\n",
        "      adj=1, padj=0) # display equation\n",
        "\n",
        "# calculate residuals and predicted values\n",
        "res <- signif(residuals(lm.fit), 5)\n",
        "pre <- predict(lm.fit) # plot distances between points and the regression line\n",
        "segments(x, y, x, pre, col=\"red\")\n",
        "# add labels (res values) to points\n",
        "textxy(x, y, res, cex=0.7)\n"
      ]
    }
  ]
}
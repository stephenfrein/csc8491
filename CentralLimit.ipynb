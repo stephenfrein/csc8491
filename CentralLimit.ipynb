{
  "cells": [
    {
      "cell_type": "markdown",
      "metadata": {
        "id": "view-in-github",
        "colab_type": "text"
      },
      "source": [
        "<a href=\"https://colab.research.google.com/github/stephenfrein/csc8491/blob/main/CentralLimit.ipynb\" target=\"_parent\"><img src=\"https://colab.research.google.com/assets/colab-badge.svg\" alt=\"Open In Colab\"/></a>"
      ]
    },
    {
      "cell_type": "code",
      "execution_count": null,
      "metadata": {
        "id": "_GzTg9hxiWl7"
      },
      "outputs": [],
      "source": [
        "# set up variables\n",
        "# size of population\n",
        "pop_size = 20000\n",
        "# size of samples\n",
        "samp_sz = 50\n",
        "# how many samples will we take?\n",
        "num_samples = 1000\n",
        "# target mean value of generated population data\n",
        "mean_val = 25000\n",
        "# target standard deviation of generated population data\n",
        "standard_dev = 5000"
      ]
    },
    {
      "cell_type": "code",
      "execution_count": null,
      "metadata": {
        "id": "grAH3Wk7i-Fg"
      },
      "outputs": [],
      "source": [
        "# create normal distribution\n",
        "pop_norm = rnorm(pop_size, mean = mean_val, sd = standard_dev)\n",
        "sprintf('mean of population: %s', mean(pop_norm))\n",
        "sprintf('standard deviation of population: %s', sd(pop_norm))\n",
        "# view the shape\n",
        "plot(density(pop_norm))"
      ]
    },
    {
      "cell_type": "code",
      "source": [
        "# now create skewed distribution - don't worry about logic\n",
        "pop_skewed = pop_norm\n",
        "samp_skewed = sample(pop_size, pop_size * .5)\n",
        "pop_skewed[samp_skewed] = pop_skewed[samp_skewed] * .67\n",
        "# give it same center as the normal distribution\n",
        "mean(pop_skewed)\n",
        "pop_skewed = pop_skewed + (mean(pop_norm) - mean(pop_skewed))\n",
        "mean(pop_skewed)\n",
        "# now look at the shape\n",
        "plot(density(pop_skewed))\n"
      ],
      "metadata": {
        "id": "YFqyy_gCSHkt"
      },
      "execution_count": null,
      "outputs": []
    },
    {
      "cell_type": "code",
      "execution_count": null,
      "metadata": {
        "id": "poVJUKZciJPt"
      },
      "outputs": [],
      "source": [
        "pops = list(normal=pop_norm, skewed=pop_skewed)\n",
        "saved_means_for_distros = list()\n",
        "\n",
        "# iterate over the populations\n",
        "for (i in 1:length(pops))\n",
        "{\n",
        "\n",
        "  cat(sprintf(\"***%s***\\n\", names(pops)[i]))\n",
        "  means = c() # vector of means for the population samples\n",
        "  est_se = c() # vector of estimated standard errors\n",
        "  for (j in 1:num_samples)\n",
        "  {\n",
        "    # calculate the mean of that sample\n",
        "    samp = sample(lengths(pops)[i], size = samp_sz)\n",
        "    means[j] = mean(unlist(pops[i])[samp])\n",
        "    est_se[j] = sd(unlist(pops[i])[samp])/sqrt(samp_sz)\n",
        "  }\n",
        "\n",
        "  # plot distribution of the sample means for the distro\n",
        "  plot(means, dnorm(means, mean(means), sd(means)), main=paste(names(pops)[i], \" Means\"))\n",
        "  # print out the mean of the sample means\n",
        "  cat(sprintf('Mean of sample means: %s\\n', mean(means)))\n",
        "  cat(sprintf('Standard deviation of sample means: %s\\n', sd(means)))\n",
        "  cat(sprintf('The mean of sample means is %s (%s%%) off the actual population mean\\n', abs((mean(means)-mean(pop_norm))),abs((mean(means)-mean(pop_norm))/mean(pop_norm))*100))\n",
        "  cat(sprintf('The average estimate of the standard error of the mean using sd/sqrt(n) is %s\\n', mean(est_se)))\n",
        "}\n",
        "\n",
        "\n"
      ]
    }
  ],
  "metadata": {
    "colab": {
      "provenance": [],
      "private_outputs": true,
      "authorship_tag": "ABX9TyOpbZELyteIzS1QJxWL7XpW",
      "include_colab_link": true
    },
    "kernelspec": {
      "display_name": "R",
      "name": "ir"
    },
    "language_info": {
      "name": "R"
    }
  },
  "nbformat": 4,
  "nbformat_minor": 0
}
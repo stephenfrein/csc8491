{
  "nbformat": 4,
  "nbformat_minor": 0,
  "metadata": {
    "colab": {
      "private_outputs": true,
      "provenance": [],
      "authorship_tag": "ABX9TyN3C7INuB4P7nI3thh0pvIT",
      "include_colab_link": true
    },
    "kernelspec": {
      "name": "ir",
      "display_name": "R"
    },
    "language_info": {
      "name": "R"
    }
  },
  "cells": [
    {
      "cell_type": "markdown",
      "metadata": {
        "id": "view-in-github",
        "colab_type": "text"
      },
      "source": [
        "<a href=\"https://colab.research.google.com/github/stephenfrein/csc8491/blob/main/TextClassification.ipynb\" target=\"_parent\"><img src=\"https://colab.research.google.com/assets/colab-badge.svg\" alt=\"Open In Colab\"/></a>"
      ]
    },
    {
      "cell_type": "code",
      "source": [
        "# install package that will take forever - will use later\n",
        "install.packages(\"caret\")"
      ],
      "metadata": {
        "id": "wkNIOH8koHpY"
      },
      "execution_count": null,
      "outputs": []
    },
    {
      "cell_type": "code",
      "source": [
        "# build a corpus (body of docs) using the text mining (tm) package\n",
        "install.packages(\"tm\")\n",
        "library(tm)"
      ],
      "metadata": {
        "id": "RHF1alfpJbFe"
      },
      "execution_count": null,
      "outputs": []
    },
    {
      "cell_type": "code",
      "source": [
        "# read the sms data into the sms data frame\n",
        "sms_raw <- read.csv(\"https://csc8491.s3.amazonaws.com/sms_spam.csv\")\n",
        "# examine the structure of the sms data\n",
        "str(sms_raw)"
      ],
      "metadata": {
        "id": "iIlBKSp9I0N_"
      },
      "execution_count": null,
      "outputs": []
    },
    {
      "cell_type": "code",
      "source": [
        "# convert spam/ham to factor.\n",
        "sms_raw$type <- factor(sms_raw$type)\n",
        "# examine the type variable more carefully\n",
        "str(sms_raw$type)\n",
        "table(sms_raw$type)"
      ],
      "metadata": {
        "id": "QzQCZmi-JVcP"
      },
      "execution_count": null,
      "outputs": []
    },
    {
      "cell_type": "code",
      "execution_count": null,
      "metadata": {
        "id": "A_D4gy6TIPrt"
      },
      "outputs": [],
      "source": [
        "# VCorpus is an in-memory (volatile) corpus – simplest choice here\n",
        "sms_corpus <- VCorpus(VectorSource(sms_raw$text))\n",
        "# examine the sms corpus\n",
        "print(sms_corpus)\n",
        "inspect(sms_corpus[1:2])\n",
        "# see contents\n",
        "as.character(sms_corpus[[1]])\n",
        "# returns a list in which the function has been applied to each item\n",
        "lapply(sms_corpus[1:2], as.character)\n",
        "\n",
        "\n"
      ]
    },
    {
      "cell_type": "code",
      "source": [
        "# clean up the corpus using tm_map()\n",
        "# start by making everything lowercase\n",
        "sms_corpus_clean <- tm_map(sms_corpus, content_transformer(tolower))\n",
        "# show the difference between sms_corpus and corpus_clean\n",
        "as.character(sms_corpus[[1]])\n",
        "as.character(sms_corpus_clean[[1]])"
      ],
      "metadata": {
        "id": "UilQObZGdbEK"
      },
      "execution_count": null,
      "outputs": []
    },
    {
      "cell_type": "code",
      "source": [
        "# remove numbers\n",
        "sms_corpus_clean <- tm_map(sms_corpus_clean, removeNumbers)\n",
        "# remove punctuation\n",
        "sms_corpus_clean <- tm_map(sms_corpus_clean, removePunctuation)\n",
        "# remove stop words\n",
        "sms_corpus_clean <- tm_map(sms_corpus_clean, removeWords, stopwords())\n"
      ],
      "metadata": {
        "id": "9k2H9UkGdj3S"
      },
      "execution_count": null,
      "outputs": []
    },
    {
      "cell_type": "code",
      "source": [
        "# illustration of word stemming\n",
        "install.packages(\"SnowballC\")\n",
        "library(SnowballC)\n",
        "wordStem(c(\"learn\", \"learned\", \"learning\", \"learns\"))"
      ],
      "metadata": {
        "id": "GBvuH3X3fEMM"
      },
      "execution_count": null,
      "outputs": []
    },
    {
      "cell_type": "code",
      "source": [
        "# now stem our actual corpus\n",
        "sms_corpus_clean <- tm_map(sms_corpus_clean, stemDocument)\n",
        "# eliminate unneeded whitespace\n",
        "sms_corpus_clean <- tm_map(sms_corpus_clean, stripWhitespace)\n",
        "# examine the final clean corpus\n",
        "lapply(sms_corpus[1:3], as.character)\n",
        "lapply(sms_corpus_clean[1:3], as.character)\n"
      ],
      "metadata": {
        "id": "YlIa-LWXdVpa"
      },
      "execution_count": null,
      "outputs": []
    },
    {
      "cell_type": "code",
      "source": [
        "# create a document-term sparse matrix\n",
        "sms_dtm <- DocumentTermMatrix(sms_corpus_clean)\n",
        "# see the result\n",
        "head(as.matrix(sms_dtm))"
      ],
      "metadata": {
        "id": "HYUMFcj9fdC4"
      },
      "execution_count": null,
      "outputs": []
    },
    {
      "cell_type": "code",
      "source": [
        "inspect(sms_dtm)"
      ],
      "metadata": {
        "id": "s513fwADlAMp"
      },
      "execution_count": null,
      "outputs": []
    },
    {
      "cell_type": "code",
      "source": [
        "# creating training and test datasets\n",
        "train_pct <- .8\n",
        "set.seed(123)\n",
        "train = sample(1:nrow(sms_dtm), train_pct * nrow(sms_dtm))\n",
        "sms_dtm_train <- sms_dtm[train, ]\n",
        "sms_dtm_test  <- sms_dtm[-train, ]\n",
        "nrow(sms_dtm_train)\n",
        "nrow(sms_dtm_test)"
      ],
      "metadata": {
        "id": "iQUTNLAZfm1h"
      },
      "execution_count": null,
      "outputs": []
    },
    {
      "cell_type": "code",
      "source": [
        "# also save the labels\n",
        "sms_train_labels <- sms_raw[train, ]$type\n",
        "sms_test_labels  <- sms_raw[-train, ]$type\n",
        "# check that the proportion of spam is similar\n",
        "prop.table(table(sms_train_labels))\n",
        "prop.table(table(sms_test_labels))"
      ],
      "metadata": {
        "id": "lC6VLvzMf2Uw"
      },
      "execution_count": null,
      "outputs": []
    },
    {
      "cell_type": "code",
      "source": [
        "# subset the training data into spam and ham groups\n",
        "spam <- subset(sms_raw, type == \"spam\")\n",
        "ham  <- subset(sms_raw, type == \"ham\")"
      ],
      "metadata": {
        "id": "yw-s1g2_f69Q"
      },
      "execution_count": null,
      "outputs": []
    },
    {
      "cell_type": "code",
      "source": [
        "# word cloud visualization\n",
        "install.packages(\"wordcloud\")\n",
        "library(wordcloud)"
      ],
      "metadata": {
        "id": "z00ETOU5fUHw"
      },
      "execution_count": null,
      "outputs": []
    },
    {
      "cell_type": "code",
      "source": [
        "wordcloud(VCorpus(VectorSource(spam$text)), max.words = 20, scale = c(10, 0.5))"
      ],
      "metadata": {
        "id": "p8N7hTSHgQhA"
      },
      "execution_count": null,
      "outputs": []
    },
    {
      "cell_type": "code",
      "source": [
        "wordcloud(VCorpus(VectorSource(ham$text)), max.words = 20, scale = c(10, 0.5))"
      ],
      "metadata": {
        "id": "tknMbQJKgN_R"
      },
      "execution_count": null,
      "outputs": []
    },
    {
      "cell_type": "code",
      "source": [
        "# indicator features for frequent words\n",
        "findFreqTerms(sms_dtm_train, 5)\n",
        "# save frequently-appearing terms to a character vector\n",
        "sms_freq_words <- findFreqTerms(sms_dtm_train, 5)\n",
        "str(sms_freq_words)"
      ],
      "metadata": {
        "id": "6AFJURoThgbY"
      },
      "execution_count": null,
      "outputs": []
    },
    {
      "cell_type": "code",
      "source": [
        "# create DTMs with only the frequent terms\n",
        "sms_dtm_freq_train <- sms_dtm_train[ , sms_freq_words]\n",
        "sms_dtm_freq_test <- sms_dtm_test[ , sms_freq_words]\n",
        "#see what is in a DTM\n",
        "inspect(sms_dtm_freq_train)"
      ],
      "metadata": {
        "id": "C9JUPfXckLh9"
      },
      "execution_count": null,
      "outputs": []
    },
    {
      "cell_type": "code",
      "source": [
        "as.character(sms_corpus_clean[[2046]])"
      ],
      "metadata": {
        "id": "QVBuG-UohZhp"
      },
      "execution_count": null,
      "outputs": []
    },
    {
      "cell_type": "code",
      "source": [
        "# convert counts to presence indicator - # times not important\n",
        "convert_counts <- function(x) {\n",
        "  return(ifelse(x > 0, \"Yes\", \"No\"))\n",
        "}\n",
        "# apply() convert_counts() to columns of train/test data\n",
        "sms_train <- apply(sms_dtm_freq_train, MARGIN = 2, convert_counts)\n",
        "sms_test  <- apply(sms_dtm_freq_test, MARGIN = 2, convert_counts)\n",
        "head(sms_train)"
      ],
      "metadata": {
        "id": "SKq49XyLl1Vh"
      },
      "execution_count": null,
      "outputs": []
    },
    {
      "cell_type": "code",
      "source": [
        "# install naive bayes packages\n",
        "install.packages(\"e1071\")"
      ],
      "metadata": {
        "id": "m3-EkMxpmi1I"
      },
      "execution_count": null,
      "outputs": []
    },
    {
      "cell_type": "code",
      "source": [
        "# training a model on the data ----\n",
        "library(caret)\n",
        "library(e1071)\n",
        "sms_classifier <- naiveBayes(sms_train, sms_train_labels)\n",
        "# evaluating model performance ----\n",
        "sms_test_pred <- predict(sms_classifier, sms_test)\n",
        "confusionMatrix(sms_test_pred, sms_test_labels, positive=\"spam\",\n",
        "\tmode=\"prec_recall\")"
      ],
      "metadata": {
        "id": "PrrU4Jw0mnHY"
      },
      "execution_count": null,
      "outputs": []
    },
    {
      "cell_type": "code",
      "source": [
        "# predict with new messages\n",
        "new_sms1 = 'what time is the movie? 7:30?'\n",
        "new_sms2 = 'Free vacation if you text back'\n",
        "# put both into same character vector\n",
        "new_sms <- rbind(new_sms1, new_sms2)\n",
        "new_corpus <- VCorpus(VectorSource(new_sms))\n",
        "new_corpus = tm_map(new_corpus, content_transformer(tolower))\n",
        "new_corpus = tm_map(new_corpus, removeNumbers)\n",
        "new_corpus = tm_map(new_corpus, removePunctuation)\n",
        "new_corpus = tm_map(new_corpus, removeWords, stopwords())\n",
        "new_corpus = tm_map(new_corpus, stripWhitespace)\n",
        "as.character(new_corpus[[1]])\n",
        "as.character(new_corpus[[2]])"
      ],
      "metadata": {
        "id": "XrSF-sg5psVU"
      },
      "execution_count": null,
      "outputs": []
    },
    {
      "cell_type": "code",
      "source": [
        "# new DTM for these messages\n",
        "new_dtm = DocumentTermMatrix(new_corpus)\n",
        "new_dtm\n",
        "inspect(new_dtm)"
      ],
      "metadata": {
        "id": "hhQEqZCsp9R7"
      },
      "execution_count": null,
      "outputs": []
    },
    {
      "cell_type": "code",
      "source": [
        "new_dtm_df <- apply(new_dtm, MARGIN = 2, convert_counts)\n",
        "new_sms_pred <- predict(sms_classifier, new_dtm_df)\n",
        "new_sms_pred[1]\n",
        "new_sms_pred[2]"
      ],
      "metadata": {
        "id": "obizuwnFqLMZ"
      },
      "execution_count": null,
      "outputs": []
    },
    {
      "cell_type": "code",
      "source": [
        "# see predictions as probabilities\n",
        "new_sms_pred <- predict(sms_classifier, new_dtm_df, type=\"raw\")\n",
        "new_sms_pred\n"
      ],
      "metadata": {
        "id": "ezJ49xjQpkXz"
      },
      "execution_count": null,
      "outputs": []
    }
  ]
}
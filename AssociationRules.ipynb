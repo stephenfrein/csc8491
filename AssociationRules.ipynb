{
  "nbformat": 4,
  "nbformat_minor": 0,
  "metadata": {
    "colab": {
      "private_outputs": true,
      "provenance": [],
      "authorship_tag": "ABX9TyOH4KSvdZEH3Bql9e7vldq2",
      "include_colab_link": true
    },
    "kernelspec": {
      "name": "ir",
      "display_name": "R"
    },
    "language_info": {
      "name": "R"
    }
  },
  "cells": [
    {
      "cell_type": "markdown",
      "metadata": {
        "id": "view-in-github",
        "colab_type": "text"
      },
      "source": [
        "<a href=\"https://colab.research.google.com/github/stephenfrein/csc8491/blob/main/AssociationRules.ipynb\" target=\"_parent\"><img src=\"https://colab.research.google.com/assets/colab-badge.svg\" alt=\"Open In Colab\"/></a>"
      ]
    },
    {
      "cell_type": "code",
      "execution_count": null,
      "metadata": {
        "id": "orfrmPge04lr"
      },
      "outputs": [],
      "source": [
        "install.packages(\"arules\")\n",
        "library(arules)"
      ]
    },
    {
      "cell_type": "code",
      "source": [
        "# load the grocery data into a sparse matrix - not using read.csv\n",
        "# each item becomes a feature in the matrix\n",
        "groceries <- read.transactions(\"https://csc8491.s3.amazonaws.com/groceries.csv\", sep \t= \",\")\n",
        "summary(groceries)"
      ],
      "metadata": {
        "id": "C3GlV8443MGp"
      },
      "execution_count": null,
      "outputs": []
    },
    {
      "cell_type": "code",
      "source": [
        "# look at the first five transactions\n",
        "inspect(groceries[1:5])"
      ],
      "metadata": {
        "id": "aeButYp91f0X"
      },
      "execution_count": null,
      "outputs": []
    },
    {
      "cell_type": "code",
      "source": [
        "# examine the frequency of items\n",
        "itemFrequency(groceries[, 1:3])"
      ],
      "metadata": {
        "id": "-sQQ1hXs3jH5"
      },
      "execution_count": null,
      "outputs": []
    },
    {
      "cell_type": "code",
      "source": [
        "# plot the frequency of items\n",
        "itemFrequencyPlot(groceries, support = 0.1)\n",
        "itemFrequencyPlot(groceries, topN = 20)"
      ],
      "metadata": {
        "id": "LKn9fQIh3SZ0"
      },
      "execution_count": null,
      "outputs": []
    },
    {
      "cell_type": "code",
      "source": [
        "## training a model on the data ----\n",
        "# default settings result in zero rules learned\n",
        "apriori(groceries)"
      ],
      "metadata": {
        "id": "C5eHMGh283zU"
      },
      "execution_count": null,
      "outputs": []
    },
    {
      "cell_type": "code",
      "source": [
        "# set support and confidence levels\n",
        "groceryrules <- apriori(groceries, parameter = list(\n",
        "\t\t\tsupport = 0.006, confidence = 0.25, minlen = 2))\n",
        "groceryrules"
      ],
      "metadata": {
        "id": "VRz-NArn9CVL"
      },
      "execution_count": null,
      "outputs": []
    },
    {
      "cell_type": "code",
      "source": [
        "# summary of grocery association rules\n",
        "summary(groceryrules)"
      ],
      "metadata": {
        "id": "uGw8I4ZP8yMN"
      },
      "execution_count": null,
      "outputs": []
    },
    {
      "cell_type": "code",
      "source": [
        "# look at the first three rules\n",
        "inspect(groceryrules[1:3])\n"
      ],
      "metadata": {
        "id": "kCZlM1Mp9OUD"
      },
      "execution_count": null,
      "outputs": []
    },
    {
      "cell_type": "code",
      "source": [
        "# sorting grocery rules by lift\n",
        "inspect(sort(groceryrules, by = \"lift\")[1:5])"
      ],
      "metadata": {
        "id": "UxfmSAdD9V4S"
      },
      "execution_count": null,
      "outputs": []
    },
    {
      "cell_type": "code",
      "source": [
        "# finding subsets of rules containing any berry items\n",
        "berryrules <- subset(groceryrules, items %in% \"berries\")\n",
        "inspect(berryrules)"
      ],
      "metadata": {
        "id": "IWEbq0Jv9Z9q"
      },
      "execution_count": null,
      "outputs": []
    }
  ]
}
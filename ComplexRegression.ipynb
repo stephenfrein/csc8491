{
  "nbformat": 4,
  "nbformat_minor": 0,
  "metadata": {
    "colab": {
      "private_outputs": true,
      "provenance": [],
      "authorship_tag": "ABX9TyNx0S3DRwcM2lsCvbrawGBv",
      "include_colab_link": true
    },
    "kernelspec": {
      "name": "ir",
      "display_name": "R"
    },
    "language_info": {
      "name": "R"
    }
  },
  "cells": [
    {
      "cell_type": "markdown",
      "metadata": {
        "id": "view-in-github",
        "colab_type": "text"
      },
      "source": [
        "<a href=\"https://colab.research.google.com/github/stephenfrein/csc8491/blob/main/ComplexRegression.ipynb\" target=\"_parent\"><img src=\"https://colab.research.google.com/assets/colab-badge.svg\" alt=\"Open In Colab\"/></a>"
      ]
    },
    {
      "cell_type": "code",
      "source": [
        "# set up mydat as we did in simple regression\n",
        "install.packages(\"calibrate\")\n",
        "library(calibrate)\n",
        "# vector of normally distributed random values around mean 20\n",
        "x = rnorm(50, mean=20, sd=3)\n",
        "#real f           #error term with mean 0\n",
        "y = (2 * x + 3) + rnorm(50, sd=3)\n",
        "mydat = data.frame(x,y)"
      ],
      "metadata": {
        "id": "o17dt-OFANaC"
      },
      "execution_count": null,
      "outputs": []
    },
    {
      "cell_type": "code",
      "execution_count": null,
      "metadata": {
        "id": "Up0AAD91_3gw"
      },
      "outputs": [],
      "source": [
        "#more complex model - uses powers of x and multiple terms\n",
        "lm.flexfit = lm(data=mydat, formula = y ~ x+I(x^2)+I(x^3))\n",
        "#should be a little more accurate\n",
        "summary(lm.flexfit)\n",
        "#plot it\n",
        "plot(y~x)\n",
        "abline(lm.fit)\n",
        "points(x, fitted(lm.flexfit), col='red', pch=20)\n",
        "lines(sort(x), fitted(lm.flexfit)[order(x)], col='red', type='b')\n",
        "\n"
      ]
    },
    {
      "cell_type": "code",
      "source": [
        "#now, new data using same generation logic\n",
        "x = rnorm(50, mean=20, sd=3)\n",
        "#real f           #error term\n",
        "y = (2 * x + 3) + rnorm(50,sd=3)\n",
        "testdat = data.frame(x,y)\n",
        "#predict with simple model\n",
        "linear_pred <- predict(lm.fit, newdata=testdat)\n",
        "mean(abs(linear_pred - testdat$y))\n",
        "#predict with overfit complex model\n",
        "complex_pred <- predict(lm.flexfit, newdata=testdat)\n",
        "mean(abs(complex_pred - testdat$y))\n",
        "#simple model should be closer – shows bias-variance tradeoff"
      ],
      "metadata": {
        "id": "aBJ7gYz3AwmY"
      },
      "execution_count": null,
      "outputs": []
    }
  ]
}
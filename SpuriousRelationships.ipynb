{
  "nbformat": 4,
  "nbformat_minor": 0,
  "metadata": {
    "colab": {
      "private_outputs": true,
      "provenance": [],
      "authorship_tag": "ABX9TyNdARWa/2oxg2J/Y6SeuBlv",
      "include_colab_link": true
    },
    "kernelspec": {
      "name": "ir",
      "display_name": "R"
    },
    "language_info": {
      "name": "R"
    }
  },
  "cells": [
    {
      "cell_type": "markdown",
      "metadata": {
        "id": "view-in-github",
        "colab_type": "text"
      },
      "source": [
        "<a href=\"https://colab.research.google.com/github/stephenfrein/csc8491/blob/main/SpuriousRelationships.ipynb\" target=\"_parent\"><img src=\"https://colab.research.google.com/assets/colab-badge.svg\" alt=\"Open In Colab\"/></a>"
      ]
    },
    {
      "cell_type": "code",
      "source": [
        "install.packages(\"tidyverse\", dependencies=TRUE)\n"
      ],
      "metadata": {
        "id": "DXJe1AEi-cTe"
      },
      "execution_count": null,
      "outputs": []
    },
    {
      "cell_type": "code",
      "execution_count": null,
      "metadata": {
        "id": "Z6C-Kpfy9qhl"
      },
      "outputs": [],
      "source": [
        "library(broom)\n",
        "#random values that will be our target\n",
        "target <- rnorm(1000)\n",
        "#start a data frame\n",
        "df <- data.frame(target)\n",
        "#loop and keep adding new random columns\n",
        "for (val in c(1:200)) {\n",
        "  #save column names\n",
        "  colnames <- colnames(df)\n",
        "  #new vector of values\n",
        "  x <- rnorm(1000)\n",
        "  #attach it to data frame\n",
        "  df <- cbind(df,x)\n",
        "  #also add the new column name\n",
        "  colnames(df) <- c(colnames,val)\n",
        "}\n",
        "#create a linear model\n",
        "lm.random <- lm(target ~ ., data = df)\n",
        "summary(lm.random)\n",
        "# capture in data frame\n",
        "inspect_p <- tidy(lm.random)\n"
      ]
    }
  ]
}
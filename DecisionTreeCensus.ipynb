{
  "nbformat": 4,
  "nbformat_minor": 0,
  "metadata": {
    "colab": {
      "private_outputs": true,
      "provenance": [],
      "authorship_tag": "ABX9TyO7rMc7Ik40nRjpeJONKijV",
      "include_colab_link": true
    },
    "kernelspec": {
      "name": "ir",
      "display_name": "R"
    },
    "language_info": {
      "name": "R"
    }
  },
  "cells": [
    {
      "cell_type": "markdown",
      "metadata": {
        "id": "view-in-github",
        "colab_type": "text"
      },
      "source": [
        "<a href=\"https://colab.research.google.com/github/stephenfrein/csc8491/blob/main/DecisionTreeCensus.ipynb\" target=\"_parent\"><img src=\"https://colab.research.google.com/assets/colab-badge.svg\" alt=\"Open In Colab\"/></a>"
      ]
    },
    {
      "cell_type": "code",
      "source": [
        "install.packages(\"tree\")"
      ],
      "metadata": {
        "id": "R_epbRF_7aOh"
      },
      "execution_count": null,
      "outputs": []
    },
    {
      "cell_type": "code",
      "source": [
        "library(tree)\n",
        "income = read.csv(\"https://csc8491.s3.amazonaws.com/census_income.csv\", stringsAsFactors = TRUE)\n",
        "head(income)"
      ],
      "metadata": {
        "id": "Cbyo-Xlb8ywN"
      },
      "execution_count": null,
      "outputs": []
    },
    {
      "cell_type": "code",
      "source": [
        "income_clean = income\n",
        "# remove questionable variable\n",
        "income_clean = income_clean[,-7]\n",
        "summary(income_clean)"
      ],
      "metadata": {
        "id": "aQhuL0iU9ESA"
      },
      "execution_count": null,
      "outputs": []
    },
    {
      "cell_type": "code",
      "source": [
        "# create train and test sets to build and check model\n",
        "set.seed(101)\n",
        "sample_pct <- .80\n",
        "train <- sample(1:nrow(income_clean), sample_pct * nrow(income_clean))\n",
        "train"
      ],
      "metadata": {
        "id": "i4luOcZb9wzA"
      },
      "execution_count": null,
      "outputs": []
    },
    {
      "cell_type": "code",
      "source": [
        "income.train <- income_clean[train,] #train set\n",
        "nrow(income.train)\n",
        "income.test <- income_clean[-train,] #test set\n",
        "nrow(income.test)"
      ],
      "metadata": {
        "id": "OeZGiNnuBHq1"
      },
      "execution_count": null,
      "outputs": []
    },
    {
      "cell_type": "code",
      "source": [
        "tree.income<-tree(over_50k~.,income.train)\n",
        "summary(tree.income)"
      ],
      "metadata": {
        "id": "GCCQAVlR93Oz"
      },
      "execution_count": null,
      "outputs": []
    },
    {
      "cell_type": "code",
      "source": [
        "tree.income\n",
        "plot(tree.income)\n",
        "text(tree.income, pretty=0) # pretty uses factor names for plot"
      ],
      "metadata": {
        "id": "YyxC1yaR_hK7"
      },
      "execution_count": null,
      "outputs": []
    },
    {
      "cell_type": "code",
      "execution_count": null,
      "metadata": {
        "id": "3dXEBLNl60ri"
      },
      "outputs": [],
      "source": [
        "tree.pred=predict(tree.income,income.test,type=\"class\") # predictions\n",
        "# confusion matrix and accuracy calc\n",
        "install.packages(\"caret\")\n",
        "library(caret)\n",
        "confusionMatrix(tree.pred, income.test$over_50k, mode = \"prec_recall\", positive=\"Yes\")\n"
      ]
    },
    {
      "cell_type": "markdown",
      "source": [
        "Go back to slide 19 here for confusion matrix interpretation."
      ],
      "metadata": {
        "id": "GWVgadakE_Bk"
      }
    },
    {
      "cell_type": "code",
      "source": [
        "install.packages(\"randomForest\")\n",
        "library(randomForest)\n",
        "set.seed(54321)\n",
        "# build random forest and track variable importance\n",
        "rf.income=randomForest(over_50k~.,data=income.train,importance=TRUE)\n",
        "rf.income"
      ],
      "metadata": {
        "id": "c-Zicg0pC0OH"
      },
      "execution_count": null,
      "outputs": []
    },
    {
      "cell_type": "markdown",
      "source": [
        "Go back to slide 21 to discuss variable importance."
      ],
      "metadata": {
        "id": "jiZtkmLGF3Uw"
      }
    },
    {
      "cell_type": "code",
      "source": [
        "# show importance\n",
        "importance(rf.income)\n",
        "varImpPlot(rf.income)"
      ],
      "metadata": {
        "id": "eb9_t8MKC3xW"
      },
      "execution_count": null,
      "outputs": []
    },
    {
      "cell_type": "code",
      "source": [
        "# predict on test set\n",
        "rf.income.pred=predict(rf.income,income.test,type=\"class\")\n",
        "# confusion matrix and accuracy calc\n",
        "library(caret)\n",
        "confusionMatrix(rf.income.pred, income.test$over_50k, mode = \"prec_recall\", positive=\"Yes\")\n"
      ],
      "metadata": {
        "id": "H220ep1LCqk0"
      },
      "execution_count": null,
      "outputs": []
    },
    {
      "cell_type": "markdown",
      "source": [
        "Go back to slide 22 for boosted decision trees."
      ],
      "metadata": {
        "id": "A59gGDDEGC_0"
      }
    },
    {
      "cell_type": "code",
      "source": [
        "# setting up for boosted\n",
        "# need our target to be ones and zeroes\n",
        "income.train.forboost = income.train\n",
        "income.train.forboost$over_50k = ifelse(income.train.forboost$over_50k==\"Yes\",1,0)\n",
        "income.test.forboost = income.test\n",
        "income.test.forboost$over_50k = ifelse(income.test.forboost$over_50k==\"Yes\",1,0)"
      ],
      "metadata": {
        "id": "2aSKj2vvA_Ga"
      },
      "execution_count": null,
      "outputs": []
    },
    {
      "cell_type": "code",
      "source": [
        "install.packages(\"gbm\")"
      ],
      "metadata": {
        "id": "V9LxKW3aBHmA"
      },
      "execution_count": null,
      "outputs": []
    },
    {
      "cell_type": "code",
      "source": [
        "library(gbm)\n",
        "set.seed(123)\n",
        "# create a boosted model with 1000 piggybacked trees – verbose lets us see interim results\n",
        "# Bernoulli distribution good for our 0 and 1 values in the target\n",
        "boosted.income = gbm(over_50k~.,data=income.train.forboost,n.trees=1000, distribution = \"bernoulli\", verbose=TRUE)"
      ],
      "metadata": {
        "id": "vGwQwxmyCiu2"
      },
      "execution_count": null,
      "outputs": []
    },
    {
      "cell_type": "code",
      "source": [
        "boosted.income"
      ],
      "metadata": {
        "id": "9_BqgZxOC1R0"
      },
      "execution_count": null,
      "outputs": []
    },
    {
      "cell_type": "code",
      "source": [
        "summary(boosted.income)"
      ],
      "metadata": {
        "id": "hiMNCpaECtIu"
      },
      "execution_count": null,
      "outputs": []
    },
    {
      "cell_type": "code",
      "source": [
        "# make predictions\n",
        "boosted.pred = predict(boosted.income,income.test.forboost, n.trees=1000, type=\"response\")\n",
        "# turn probabilities to text values\n",
        "boosted.pred = ifelse(boosted.pred > 0.5,\"Yes\",\"No\")\n",
        "# confusion matrix and accuracy calc\n",
        "confusionMatrix(as.factor(boosted.pred), income.test$over_50k, mode = \"prec_recall\", positive=\"Yes\")\n"
      ],
      "metadata": {
        "id": "RKy3D9qSA2bH"
      },
      "execution_count": null,
      "outputs": []
    },
    {
      "cell_type": "markdown",
      "source": [
        "Go back to slide 23."
      ],
      "metadata": {
        "id": "1a9zOXrZGJx-"
      }
    },
    {
      "cell_type": "code",
      "source": [
        "# create ROC curve for model\n",
        "install.packages(\"pROC\")"
      ],
      "metadata": {
        "id": "WbE5G1Q_Dm76"
      },
      "execution_count": null,
      "outputs": []
    },
    {
      "cell_type": "code",
      "source": [
        "library(pROC)\n",
        "boosted.pred.roc = predict(boosted.income,income.test.forboost, \tn.trees=1000, type=\"response\")\n",
        "roc_obj <- roc(income.test$over_50k, boosted.pred.roc)\n",
        "# see AUC - area under curve\n",
        "roc_obj$auc\n",
        "# draw ROC curve with title and AUC\n",
        "roc_plot <- ggroc(roc_obj, legacy.axes = TRUE)\n",
        "roc_plot + xlab(\"FPR\") + ylab(\"TPR\") +\n",
        "  \tgeom_segment(aes(x = 0, xend = 1, y = 0, yend = 1),\n",
        "  \tcolor=\"darkgrey\", linetype=\"dashed\") + ggtitle(paste(\"ROC Curve with AUC\",roc_obj$auc))\n"
      ],
      "metadata": {
        "id": "REjqBKkYDfci"
      },
      "execution_count": null,
      "outputs": []
    }
  ]
}
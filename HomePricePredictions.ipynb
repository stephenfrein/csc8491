{
  "nbformat": 4,
  "nbformat_minor": 0,
  "metadata": {
    "colab": {
      "private_outputs": true,
      "provenance": [],
      "authorship_tag": "ABX9TyMaZKOU/w5vL0iVDt+RsWKD",
      "include_colab_link": true
    },
    "kernelspec": {
      "name": "ir",
      "display_name": "R"
    },
    "language_info": {
      "name": "R"
    }
  },
  "cells": [
    {
      "cell_type": "markdown",
      "metadata": {
        "id": "view-in-github",
        "colab_type": "text"
      },
      "source": [
        "<a href=\"https://colab.research.google.com/github/stephenfrein/csc8491/blob/main/HomePricePredictions.ipynb\" target=\"_parent\"><img src=\"https://colab.research.google.com/assets/colab-badge.svg\" alt=\"Open In Colab\"/></a>"
      ]
    },
    {
      "cell_type": "code",
      "source": [
        "# read in home data from CSV file\n",
        "homes_raw = read.csv('https://csc8491.s3.amazonaws.com/home_data.csv')\n",
        "head(homes_raw)"
      ],
      "metadata": {
        "id": "yQ9jtqZ30sXY"
      },
      "execution_count": null,
      "outputs": []
    },
    {
      "cell_type": "code",
      "source": [
        "# review homes data set structure\n",
        "str(homes_raw)"
      ],
      "metadata": {
        "id": "WMa7q1UA1GVI"
      },
      "execution_count": null,
      "outputs": []
    },
    {
      "cell_type": "code",
      "execution_count": null,
      "metadata": {
        "id": "lWharp5OqpVh"
      },
      "outputs": [],
      "source": [
        "# check ranges, outliers, nulls, etc.\n",
        "summary(homes_raw)"
      ]
    },
    {
      "cell_type": "code",
      "source": [
        "# get rid of rows with missing data - these cause many model-building algorithms to choke\n",
        "homes_clean = na.omit(homes_raw)\n",
        "nrow(homes_raw)\n",
        "nrow(homes_clean)\n",
        "summary(homes_clean)"
      ],
      "metadata": {
        "id": "EGUOifhGsH-6"
      },
      "execution_count": null,
      "outputs": []
    },
    {
      "cell_type": "code",
      "source": [
        "# split into training and test data sets\n",
        "# training used to build model - test used to try it on unseen data\n",
        "# set training data percentage size\n",
        "train_proportion = .70\n",
        "# indexes of rows in training set - args are total_range and how many nums from range\n",
        "homes_train_rows = sample(1:nrow(homes_clean),train_proportion * nrow(homes_clean))\n",
        "homes_train_rows\n",
        "#create training data frame\n",
        "homes_train = homes_clean[homes_train_rows,]\n",
        "sprintf(\"Training data set has %s rows\", nrow(homes_train))\n",
        "# create test data frame - minus makes it the opposite rows\n",
        "homes_test = homes_clean[-homes_train_rows,]\n",
        "sprintf(\"Test data set has %s rows\", nrow(homes_test))"
      ],
      "metadata": {
        "id": "R4ay2usztMqk"
      },
      "execution_count": null,
      "outputs": []
    },
    {
      "cell_type": "code",
      "source": [
        "# build and assess model\n",
        "lm.allpredictors = lm(price ~ ., data = homes_train)\n",
        "summary(lm.allpredictors)\n",
        "# make some predictions\n",
        "all_preds = predict(lm.allpredictors, newdata = homes_test)\n",
        "# calculate MAE - mean absolute error\n",
        "all_preds_avg_error = mean(abs(all_preds - homes_test$price))\n",
        "sprintf(\"MAE (mean absolute error) is %s\", all_preds_avg_error)\n"
      ],
      "metadata": {
        "id": "mMAzdHiwuGAW"
      },
      "execution_count": null,
      "outputs": []
    },
    {
      "cell_type": "code",
      "source": [
        "# build a model just based on square feet - easier to graph in 2D\n",
        "lm.sqft = lm(price ~ sqft_living, data = homes_train)\n",
        "summary(lm.sqft)\n",
        "plot(homes_train$sqft_living, homes_train$price)\n",
        "abline(lm.sqft)"
      ],
      "metadata": {
        "id": "iE6ygplTufHc"
      },
      "execution_count": null,
      "outputs": []
    },
    {
      "cell_type": "code",
      "source": [
        "# find influential outliers with Cook's Distance\n",
        "# measures the impact of a single observation on the model\n",
        "cooksd = cooks.distance(lm.allpredictors)\n",
        "# plot Cook's Distance\n",
        "# pch means plot character\n",
        "# cex is character expansion ratio\n",
        "plot(cooksd, pch=\"*\", cex=2, main=\"Influential Observations - Cook's Distance\")"
      ],
      "metadata": {
        "id": "XvF4aNAbwgoe"
      },
      "execution_count": null,
      "outputs": []
    },
    {
      "cell_type": "code",
      "source": [
        "# find the top N Cook's Distance values\n",
        "top_n = 20\n",
        "head(sort(cooksd, decreasing = TRUE), n= top_n)\n",
        "cutoff_threshold = min(head(sort(cooksd, decreasing = TRUE), n= top_n))\n",
        "cutoff_threshold"
      ],
      "metadata": {
        "id": "VmlfrHMDINqP"
      },
      "execution_count": null,
      "outputs": []
    },
    {
      "cell_type": "code",
      "source": [
        "# plot Cook's Distance\n",
        "# pch means plot character\n",
        "# cex is character expansion ratio\n",
        "plot(cooksd, pch=\"*\", cex=2, main=\"Influential Observations - Cook's Distance\")\n",
        "# add cutoff line for top Cook's Distance values\n",
        "abline(h = cutoff_threshold, col=\"red\", lwd=3)"
      ],
      "metadata": {
        "id": "wRlr7taLybIC"
      },
      "execution_count": null,
      "outputs": []
    },
    {
      "cell_type": "code",
      "source": [
        "# influential row numbers\n",
        "influential = as.numeric(names(cooksd)[(cooksd >= cutoff_threshold)])\n",
        "length(influential)\n",
        "# remove those rows\n",
        "homes_rm_outliers = homes_train[ !(rownames(homes_train) %in% influential), ]\n",
        "#build new model\n",
        "lm.sqft_outrm = lm(price ~ sqft_living, data = homes_rm_outliers)\n",
        "summary(lm.sqft_outrm)\n",
        "# let's see the difference with outliers removed\n",
        "plot(homes_rm_outliers$sqft_living, homes_rm_outliers$price)\n",
        "abline(lm.sqft, col=\"red\") #old model\n",
        "abline(lm.sqft_outrm, col=\"blue\") #new model"
      ],
      "metadata": {
        "id": "s3DmIFO1zHfl"
      },
      "execution_count": null,
      "outputs": []
    },
    {
      "cell_type": "code",
      "source": [
        "# which predicts better?\n",
        "# try model built on outliers\n",
        "sqft_preds = predict(lm.sqft, newdata = homes_test)\n",
        "sqft_preds_avg_error = mean(abs(sqft_preds - homes_test$price))\n",
        "sprintf(\"Average error with outliers: %s\", sqft_preds_avg_error)\n",
        "# now try model built without outliers\n",
        "outrm_sqft_preds = predict(lm.sqft_outrm, newdata = homes_test)\n",
        "outrm_sqft_preds_avg_error = mean(abs(outrm_sqft_preds - homes_test$price))\n",
        "sprintf(\"Average error with outliers removed: %s\", outrm_sqft_preds_avg_error)"
      ],
      "metadata": {
        "id": "pd7FMHTgzc-R"
      },
      "execution_count": null,
      "outputs": []
    },
    {
      "cell_type": "code",
      "source": [
        "# now use all predictors with outliers removed\n",
        "lm.all_pred_outrm = lm(price ~ ., data = homes_rm_outliers)\n",
        "outrm_all_preds = predict(lm.all_pred_outrm, newdata = homes_test)\n",
        "outrm_all_preds_avg_error = mean(abs(outrm_all_preds - homes_test$price))\n",
        "sprintf(\"Average error all predictors with outliers removed: %s\", outrm_all_preds_avg_error)\n",
        "sprintf(\"Average error all predictors with outliers left in: %s\", all_preds_avg_error)"
      ],
      "metadata": {
        "id": "oGD9QNpLz4vw"
      },
      "execution_count": null,
      "outputs": []
    },
    {
      "cell_type": "code",
      "source": [
        "# predict the 95% confidence interval of homes with following properties\n",
        "# 95% chance that population parameter for homes with these properties\n",
        "# will be within the interval\n",
        "predict(lm.all_pred_outrm, data.frame(bedrooms=c(4), bathrooms=c(3), sqft_living=c(2794),\n",
        "                                      sqft_lot=c(16553), floors=c(2), condition=c(3), yrs_old=70,\n",
        "                                      assess_cd=9), interval=\"confidence\")"
      ],
      "metadata": {
        "id": "7Iq2OSgL3LW-"
      },
      "execution_count": null,
      "outputs": []
    },
    {
      "cell_type": "code",
      "source": [
        "# predict how much a *specific* home will cost - same center, wider range\n",
        "predict(lm.all_pred_outrm, data.frame(bedrooms=c(4), bathrooms=c(3), sqft_living=c(2794),\n",
        "                                      sqft_lot=c(16553), floors=c(2), condition=c(3), yrs_old=70,\n",
        "                                      assess_cd=9), interval=\"prediction\")"
      ],
      "metadata": {
        "id": "Ylty48p33bT9"
      },
      "execution_count": null,
      "outputs": []
    },
    {
      "cell_type": "code",
      "source": [
        "# do the same for another house\n",
        "predict(lm.all_pred_outrm, data.frame(bedrooms=c(3), bathrooms=c(1.5), sqft_living=c(1499),\n",
        "                                      sqft_lot=c(5271), floors=c(2), condition=c(4), yrs_old=60,\n",
        "                                      assess_cd=8),interval=\"confidence\")\n",
        "predict(lm.all_pred_outrm, data.frame(bedrooms=c(3), bathrooms=c(1.5), sqft_living=c(1499),\n",
        "                                      sqft_lot=c(5271), floors=c(2), condition=c(4), yrs_old=60,\n",
        "                                      assess_cd=8),interval=\"prediction\")"
      ],
      "metadata": {
        "id": "zmz4H4uy3m5b"
      },
      "execution_count": null,
      "outputs": []
    }
  ]
}